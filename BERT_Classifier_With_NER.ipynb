{
  "cells": [
    {
      "cell_type": "code",
      "execution_count": 1,
      "metadata": {
        "colab": {
          "base_uri": "https://localhost:8080/"
        },
        "id": "gvHA0GxwqO9P",
        "outputId": "cf0b90d4-5145-472e-99e2-4cb3743b67d7"
      },
      "outputs": [
        {
          "name": "stdout",
          "output_type": "stream",
          "text": [
            "Looking in indexes: https://pypi.org/simple, https://us-python.pkg.dev/colab-wheels/public/simple/\n",
            "Collecting tensorflow-text\n",
            "  Downloading tensorflow_text-2.11.0-cp38-cp38-manylinux_2_17_x86_64.manylinux2014_x86_64.whl (5.8 MB)\n",
            "\u001b[K     |████████████████████████████████| 5.8 MB 8.1 MB/s \n",
            "\u001b[?25hCollecting tensorflow<2.12,>=2.11.0\n",
            "  Downloading tensorflow-2.11.0-cp38-cp38-manylinux_2_17_x86_64.manylinux2014_x86_64.whl (588.3 MB)\n",
            "\u001b[K     |████████████████████████████████| 588.3 MB 16 kB/s \n",
            "\u001b[?25hRequirement already satisfied: tensorflow-hub>=0.8.0 in /usr/local/lib/python3.8/dist-packages (from tensorflow-text) (0.12.0)\n",
            "Requirement already satisfied: wrapt>=1.11.0 in /usr/local/lib/python3.8/dist-packages (from tensorflow<2.12,>=2.11.0->tensorflow-text) (1.14.1)\n",
            "Requirement already satisfied: grpcio<2.0,>=1.24.3 in /usr/local/lib/python3.8/dist-packages (from tensorflow<2.12,>=2.11.0->tensorflow-text) (1.50.0)\n",
            "Requirement already satisfied: tensorflow-io-gcs-filesystem>=0.23.1 in /usr/local/lib/python3.8/dist-packages (from tensorflow<2.12,>=2.11.0->tensorflow-text) (0.28.0)\n",
            "Requirement already satisfied: typing-extensions>=3.6.6 in /usr/local/lib/python3.8/dist-packages (from tensorflow<2.12,>=2.11.0->tensorflow-text) (4.1.1)\n",
            "Requirement already satisfied: setuptools in /usr/local/lib/python3.8/dist-packages (from tensorflow<2.12,>=2.11.0->tensorflow-text) (57.4.0)\n",
            "Requirement already satisfied: numpy>=1.20 in /usr/local/lib/python3.8/dist-packages (from tensorflow<2.12,>=2.11.0->tensorflow-text) (1.21.6)\n",
            "Requirement already satisfied: google-pasta>=0.1.1 in /usr/local/lib/python3.8/dist-packages (from tensorflow<2.12,>=2.11.0->tensorflow-text) (0.2.0)\n",
            "Requirement already satisfied: astunparse>=1.6.0 in /usr/local/lib/python3.8/dist-packages (from tensorflow<2.12,>=2.11.0->tensorflow-text) (1.6.3)\n",
            "Requirement already satisfied: opt-einsum>=2.3.2 in /usr/local/lib/python3.8/dist-packages (from tensorflow<2.12,>=2.11.0->tensorflow-text) (3.3.0)\n",
            "Requirement already satisfied: six>=1.12.0 in /usr/local/lib/python3.8/dist-packages (from tensorflow<2.12,>=2.11.0->tensorflow-text) (1.15.0)\n",
            "Collecting tensorboard<2.12,>=2.11\n",
            "  Downloading tensorboard-2.11.0-py3-none-any.whl (6.0 MB)\n",
            "\u001b[K     |████████████████████████████████| 6.0 MB 44.9 MB/s \n",
            "\u001b[?25hCollecting tensorflow-estimator<2.12,>=2.11.0\n",
            "  Downloading tensorflow_estimator-2.11.0-py2.py3-none-any.whl (439 kB)\n",
            "\u001b[K     |████████████████████████████████| 439 kB 57.3 MB/s \n",
            "\u001b[?25hRequirement already satisfied: absl-py>=1.0.0 in /usr/local/lib/python3.8/dist-packages (from tensorflow<2.12,>=2.11.0->tensorflow-text) (1.3.0)\n",
            "Requirement already satisfied: protobuf<3.20,>=3.9.2 in /usr/local/lib/python3.8/dist-packages (from tensorflow<2.12,>=2.11.0->tensorflow-text) (3.19.6)\n",
            "Requirement already satisfied: gast<=0.4.0,>=0.2.1 in /usr/local/lib/python3.8/dist-packages (from tensorflow<2.12,>=2.11.0->tensorflow-text) (0.4.0)\n",
            "Requirement already satisfied: termcolor>=1.1.0 in /usr/local/lib/python3.8/dist-packages (from tensorflow<2.12,>=2.11.0->tensorflow-text) (2.1.1)\n",
            "Collecting keras<2.12,>=2.11.0\n",
            "  Downloading keras-2.11.0-py2.py3-none-any.whl (1.7 MB)\n",
            "\u001b[K     |████████████████████████████████| 1.7 MB 49.8 MB/s \n",
            "\u001b[?25hRequirement already satisfied: h5py>=2.9.0 in /usr/local/lib/python3.8/dist-packages (from tensorflow<2.12,>=2.11.0->tensorflow-text) (3.1.0)\n",
            "Requirement already satisfied: packaging in /usr/local/lib/python3.8/dist-packages (from tensorflow<2.12,>=2.11.0->tensorflow-text) (21.3)\n",
            "Requirement already satisfied: libclang>=13.0.0 in /usr/local/lib/python3.8/dist-packages (from tensorflow<2.12,>=2.11.0->tensorflow-text) (14.0.6)\n",
            "Collecting flatbuffers>=2.0\n",
            "  Downloading flatbuffers-22.11.23-py2.py3-none-any.whl (26 kB)\n",
            "Requirement already satisfied: wheel<1.0,>=0.23.0 in /usr/local/lib/python3.8/dist-packages (from astunparse>=1.6.0->tensorflow<2.12,>=2.11.0->tensorflow-text) (0.38.4)\n",
            "Requirement already satisfied: google-auth-oauthlib<0.5,>=0.4.1 in /usr/local/lib/python3.8/dist-packages (from tensorboard<2.12,>=2.11->tensorflow<2.12,>=2.11.0->tensorflow-text) (0.4.6)\n",
            "Requirement already satisfied: google-auth<3,>=1.6.3 in /usr/local/lib/python3.8/dist-packages (from tensorboard<2.12,>=2.11->tensorflow<2.12,>=2.11.0->tensorflow-text) (2.14.1)\n",
            "Requirement already satisfied: tensorboard-data-server<0.7.0,>=0.6.0 in /usr/local/lib/python3.8/dist-packages (from tensorboard<2.12,>=2.11->tensorflow<2.12,>=2.11.0->tensorflow-text) (0.6.1)\n",
            "Requirement already satisfied: werkzeug>=1.0.1 in /usr/local/lib/python3.8/dist-packages (from tensorboard<2.12,>=2.11->tensorflow<2.12,>=2.11.0->tensorflow-text) (1.0.1)\n",
            "Requirement already satisfied: tensorboard-plugin-wit>=1.6.0 in /usr/local/lib/python3.8/dist-packages (from tensorboard<2.12,>=2.11->tensorflow<2.12,>=2.11.0->tensorflow-text) (1.8.1)\n",
            "Requirement already satisfied: requests<3,>=2.21.0 in /usr/local/lib/python3.8/dist-packages (from tensorboard<2.12,>=2.11->tensorflow<2.12,>=2.11.0->tensorflow-text) (2.23.0)\n",
            "Requirement already satisfied: markdown>=2.6.8 in /usr/local/lib/python3.8/dist-packages (from tensorboard<2.12,>=2.11->tensorflow<2.12,>=2.11.0->tensorflow-text) (3.4.1)\n",
            "Requirement already satisfied: rsa<5,>=3.1.4 in /usr/local/lib/python3.8/dist-packages (from google-auth<3,>=1.6.3->tensorboard<2.12,>=2.11->tensorflow<2.12,>=2.11.0->tensorflow-text) (4.9)\n",
            "Requirement already satisfied: cachetools<6.0,>=2.0.0 in /usr/local/lib/python3.8/dist-packages (from google-auth<3,>=1.6.3->tensorboard<2.12,>=2.11->tensorflow<2.12,>=2.11.0->tensorflow-text) (5.2.0)\n",
            "Requirement already satisfied: pyasn1-modules>=0.2.1 in /usr/local/lib/python3.8/dist-packages (from google-auth<3,>=1.6.3->tensorboard<2.12,>=2.11->tensorflow<2.12,>=2.11.0->tensorflow-text) (0.2.8)\n",
            "Requirement already satisfied: requests-oauthlib>=0.7.0 in /usr/local/lib/python3.8/dist-packages (from google-auth-oauthlib<0.5,>=0.4.1->tensorboard<2.12,>=2.11->tensorflow<2.12,>=2.11.0->tensorflow-text) (1.3.1)\n",
            "Requirement already satisfied: importlib-metadata>=4.4 in /usr/local/lib/python3.8/dist-packages (from markdown>=2.6.8->tensorboard<2.12,>=2.11->tensorflow<2.12,>=2.11.0->tensorflow-text) (4.13.0)\n",
            "Requirement already satisfied: zipp>=0.5 in /usr/local/lib/python3.8/dist-packages (from importlib-metadata>=4.4->markdown>=2.6.8->tensorboard<2.12,>=2.11->tensorflow<2.12,>=2.11.0->tensorflow-text) (3.10.0)\n",
            "Requirement already satisfied: pyasn1<0.5.0,>=0.4.6 in /usr/local/lib/python3.8/dist-packages (from pyasn1-modules>=0.2.1->google-auth<3,>=1.6.3->tensorboard<2.12,>=2.11->tensorflow<2.12,>=2.11.0->tensorflow-text) (0.4.8)\n",
            "Requirement already satisfied: certifi>=2017.4.17 in /usr/local/lib/python3.8/dist-packages (from requests<3,>=2.21.0->tensorboard<2.12,>=2.11->tensorflow<2.12,>=2.11.0->tensorflow-text) (2022.9.24)\n",
            "Requirement already satisfied: chardet<4,>=3.0.2 in /usr/local/lib/python3.8/dist-packages (from requests<3,>=2.21.0->tensorboard<2.12,>=2.11->tensorflow<2.12,>=2.11.0->tensorflow-text) (3.0.4)\n",
            "Requirement already satisfied: idna<3,>=2.5 in /usr/local/lib/python3.8/dist-packages (from requests<3,>=2.21.0->tensorboard<2.12,>=2.11->tensorflow<2.12,>=2.11.0->tensorflow-text) (2.10)\n",
            "Requirement already satisfied: urllib3!=1.25.0,!=1.25.1,<1.26,>=1.21.1 in /usr/local/lib/python3.8/dist-packages (from requests<3,>=2.21.0->tensorboard<2.12,>=2.11->tensorflow<2.12,>=2.11.0->tensorflow-text) (1.24.3)\n",
            "Requirement already satisfied: oauthlib>=3.0.0 in /usr/local/lib/python3.8/dist-packages (from requests-oauthlib>=0.7.0->google-auth-oauthlib<0.5,>=0.4.1->tensorboard<2.12,>=2.11->tensorflow<2.12,>=2.11.0->tensorflow-text) (3.2.2)\n",
            "Requirement already satisfied: pyparsing!=3.0.5,>=2.0.2 in /usr/local/lib/python3.8/dist-packages (from packaging->tensorflow<2.12,>=2.11.0->tensorflow-text) (3.0.9)\n",
            "Installing collected packages: tensorflow-estimator, tensorboard, keras, flatbuffers, tensorflow, tensorflow-text\n",
            "  Attempting uninstall: tensorflow-estimator\n",
            "    Found existing installation: tensorflow-estimator 2.9.0\n",
            "    Uninstalling tensorflow-estimator-2.9.0:\n",
            "      Successfully uninstalled tensorflow-estimator-2.9.0\n",
            "  Attempting uninstall: tensorboard\n",
            "    Found existing installation: tensorboard 2.9.1\n",
            "    Uninstalling tensorboard-2.9.1:\n",
            "      Successfully uninstalled tensorboard-2.9.1\n",
            "  Attempting uninstall: keras\n",
            "    Found existing installation: keras 2.9.0\n",
            "    Uninstalling keras-2.9.0:\n",
            "      Successfully uninstalled keras-2.9.0\n",
            "  Attempting uninstall: flatbuffers\n",
            "    Found existing installation: flatbuffers 1.12\n",
            "    Uninstalling flatbuffers-1.12:\n",
            "      Successfully uninstalled flatbuffers-1.12\n",
            "  Attempting uninstall: tensorflow\n",
            "    Found existing installation: tensorflow 2.9.2\n",
            "    Uninstalling tensorflow-2.9.2:\n",
            "      Successfully uninstalled tensorflow-2.9.2\n",
            "Successfully installed flatbuffers-22.11.23 keras-2.11.0 tensorboard-2.11.0 tensorflow-2.11.0 tensorflow-estimator-2.11.0 tensorflow-text-2.11.0\n"
          ]
        }
      ],
      "source": [
        "pip install tensorflow-text"
      ]
    },
    {
      "cell_type": "code",
      "execution_count": 2,
      "metadata": {
        "colab": {
          "base_uri": "https://localhost:8080/"
        },
        "id": "K8_YuABwsBYh",
        "outputId": "518f1964-1cdd-426b-dfcf-6072ffd63693"
      },
      "outputs": [
        {
          "name": "stdout",
          "output_type": "stream",
          "text": [
            "Looking in indexes: https://pypi.org/simple, https://us-python.pkg.dev/colab-wheels/public/simple/\n",
            "Requirement already satisfied: gdown in /usr/local/lib/python3.8/dist-packages (4.4.0)\n",
            "Collecting gdown\n",
            "  Downloading gdown-4.6.0-py3-none-any.whl (14 kB)\n",
            "Requirement already satisfied: six in /usr/local/lib/python3.8/dist-packages (from gdown) (1.15.0)\n",
            "Requirement already satisfied: requests[socks] in /usr/local/lib/python3.8/dist-packages (from gdown) (2.23.0)\n",
            "Requirement already satisfied: filelock in /usr/local/lib/python3.8/dist-packages (from gdown) (3.8.0)\n",
            "Requirement already satisfied: beautifulsoup4 in /usr/local/lib/python3.8/dist-packages (from gdown) (4.6.3)\n",
            "Requirement already satisfied: tqdm in /usr/local/lib/python3.8/dist-packages (from gdown) (4.64.1)\n",
            "Requirement already satisfied: certifi>=2017.4.17 in /usr/local/lib/python3.8/dist-packages (from requests[socks]->gdown) (2022.9.24)\n",
            "Requirement already satisfied: urllib3!=1.25.0,!=1.25.1,<1.26,>=1.21.1 in /usr/local/lib/python3.8/dist-packages (from requests[socks]->gdown) (1.24.3)\n",
            "Requirement already satisfied: idna<3,>=2.5 in /usr/local/lib/python3.8/dist-packages (from requests[socks]->gdown) (2.10)\n",
            "Requirement already satisfied: chardet<4,>=3.0.2 in /usr/local/lib/python3.8/dist-packages (from requests[socks]->gdown) (3.0.4)\n",
            "Requirement already satisfied: PySocks!=1.5.7,>=1.5.6 in /usr/local/lib/python3.8/dist-packages (from requests[socks]->gdown) (1.7.1)\n",
            "Installing collected packages: gdown\n",
            "  Attempting uninstall: gdown\n",
            "    Found existing installation: gdown 4.4.0\n",
            "    Uninstalling gdown-4.4.0:\n",
            "      Successfully uninstalled gdown-4.4.0\n",
            "Successfully installed gdown-4.6.0\n"
          ]
        }
      ],
      "source": [
        "!pip install --upgrade --no-cache-dir gdown"
      ]
    },
    {
      "cell_type": "code",
      "execution_count": 1,
      "metadata": {
        "id": "d8sx1IBVpXlQ"
      },
      "outputs": [],
      "source": [
        "import tensorflow_hub as hub\n",
        "\n",
        "import pandas as pd\n",
        "\n",
        "import tensorflow_text as text\n",
        "\n",
        "import tensorflow as tf\n",
        "\n",
        "import numpy as np"
      ]
    },
    {
      "cell_type": "code",
      "execution_count": 2,
      "metadata": {
        "colab": {
          "base_uri": "https://localhost:8080/"
        },
        "id": "QHyQHdXlrymq",
        "outputId": "1080a614-7858-4f91-f0c7-917eba7ef63f"
      },
      "outputs": [
        {
          "name": "stderr",
          "output_type": "stream",
          "text": [
            "Downloading...\n",
            "From: https://drive.google.com/uc?id=1g0jBWp3HZ1QhYDnNynh0A_jUdhmagixW\n",
            "To: c:\\Users\\KHOOSHRIN\\Documents\\BITS PILANI HYDERABAD CAMPUS\\Third Year\\First Semester\\CS F429 - Natural Language Processing (NLP)\\Project\\NLP_train_with_bert_embeddings.csv\n",
            "\n",
            "  0%|          | 0.00/348M [00:00<?, ?B/s]\n",
            "  0%|          | 524k/348M [00:00<01:56, 2.98MB/s]\n",
            "  0%|          | 1.57M/348M [00:00<01:02, 5.55MB/s]\n",
            "  1%|          | 3.15M/348M [00:00<00:37, 9.12MB/s]\n",
            "  2%|▏         | 5.77M/348M [00:00<00:25, 13.2MB/s]\n",
            "  2%|▏         | 7.34M/348M [00:00<00:32, 10.4MB/s]\n",
            "  3%|▎         | 10.5M/348M [00:00<00:22, 15.2MB/s]\n",
            "  4%|▍         | 13.6M/348M [00:00<00:17, 19.3MB/s]\n",
            "  5%|▍         | 17.3M/348M [00:01<00:14, 23.1MB/s]\n",
            "  6%|▌         | 20.4M/348M [00:01<00:13, 24.8MB/s]\n",
            "  7%|▋         | 23.6M/348M [00:01<00:12, 25.4MB/s]\n",
            "  8%|▊         | 27.3M/348M [00:01<00:11, 27.2MB/s]\n",
            "  9%|▉         | 31.5M/348M [00:01<00:10, 29.0MB/s]\n",
            " 10%|▉         | 34.6M/348M [00:01<00:12, 25.3MB/s]\n",
            " 11%|█         | 37.7M/348M [00:01<00:14, 21.4MB/s]\n",
            " 12%|█▏        | 40.4M/348M [00:02<00:13, 22.1MB/s]\n",
            " 13%|█▎        | 43.5M/348M [00:02<00:13, 23.0MB/s]\n",
            " 14%|█▎        | 47.2M/348M [00:02<00:11, 25.5MB/s]\n",
            " 14%|█▍        | 50.3M/348M [00:02<00:11, 25.7MB/s]\n",
            " 16%|█▌        | 54.0M/348M [00:02<00:10, 27.7MB/s]\n",
            " 17%|█▋        | 57.7M/348M [00:02<00:09, 29.1MB/s]\n",
            " 18%|█▊        | 61.9M/348M [00:02<00:09, 30.6MB/s]\n",
            " 19%|█▊        | 65.0M/348M [00:02<00:09, 28.7MB/s]\n",
            " 20%|█▉        | 68.2M/348M [00:02<00:09, 29.1MB/s]\n",
            " 21%|██        | 71.3M/348M [00:03<00:09, 29.5MB/s]\n",
            " 22%|██▏       | 75.0M/348M [00:03<00:09, 29.5MB/s]\n",
            " 23%|██▎       | 78.6M/348M [00:03<00:08, 31.1MB/s]\n",
            " 24%|██▍       | 82.8M/348M [00:03<00:07, 33.7MB/s]\n",
            " 25%|██▍       | 86.5M/348M [00:03<00:07, 33.2MB/s]\n",
            " 26%|██▌       | 90.2M/348M [00:03<00:08, 30.4MB/s]\n",
            " 27%|██▋       | 93.3M/348M [00:03<00:08, 29.1MB/s]\n",
            " 28%|██▊       | 97.0M/348M [00:03<00:08, 30.2MB/s]\n",
            " 29%|██▉       | 101M/348M [00:03<00:07, 33.0MB/s] \n",
            " 30%|███       | 105M/348M [00:04<00:07, 31.6MB/s]\n",
            " 31%|███       | 109M/348M [00:04<00:07, 31.9MB/s]\n",
            " 32%|███▏      | 112M/348M [00:04<00:07, 32.6MB/s]\n",
            " 33%|███▎      | 116M/348M [00:04<00:06, 34.8MB/s]\n",
            " 35%|███▍      | 120M/348M [00:04<00:06, 34.2MB/s]\n",
            " 36%|███▌      | 124M/348M [00:04<00:06, 33.0MB/s]\n",
            " 37%|███▋      | 127M/348M [00:04<00:06, 33.5MB/s]\n",
            " 38%|███▊      | 131M/348M [00:04<00:06, 32.3MB/s]\n",
            " 39%|███▉      | 135M/348M [00:05<00:07, 30.4MB/s]\n",
            " 40%|███▉      | 138M/348M [00:05<00:07, 28.3MB/s]\n",
            " 41%|████      | 141M/348M [00:05<00:10, 20.0MB/s]\n",
            " 41%|████▏     | 144M/348M [00:05<00:09, 21.1MB/s]\n",
            " 42%|████▏     | 147M/348M [00:05<00:08, 23.5MB/s]\n",
            " 43%|████▎     | 150M/348M [00:05<00:08, 23.0MB/s]\n",
            " 44%|████▍     | 153M/348M [00:05<00:08, 22.7MB/s]\n",
            " 45%|████▍     | 155M/348M [00:06<00:08, 23.3MB/s]\n",
            " 45%|████▌     | 158M/348M [00:06<00:08, 22.9MB/s]\n",
            " 46%|████▌     | 160M/348M [00:06<00:12, 15.1MB/s]\n",
            " 47%|████▋     | 163M/348M [00:06<00:15, 11.9MB/s]\n",
            " 48%|████▊     | 166M/348M [00:06<00:11, 16.0MB/s]\n",
            " 49%|████▊     | 169M/348M [00:06<00:09, 18.9MB/s]\n",
            " 50%|████▉     | 172M/348M [00:07<00:08, 21.4MB/s]\n",
            " 50%|█████     | 175M/348M [00:07<00:08, 20.1MB/s]\n",
            " 51%|█████▏    | 178M/348M [00:07<00:07, 22.1MB/s]\n",
            " 52%|█████▏    | 181M/348M [00:07<00:07, 23.5MB/s]\n",
            " 54%|█████▎    | 186M/348M [00:07<00:05, 28.3MB/s]\n",
            " 54%|█████▍    | 189M/348M [00:07<00:05, 26.8MB/s]\n",
            " 55%|█████▌    | 192M/348M [00:07<00:05, 26.3MB/s]\n",
            " 56%|█████▋    | 196M/348M [00:07<00:05, 26.6MB/s]\n",
            " 57%|█████▋    | 199M/348M [00:08<00:05, 27.8MB/s]\n",
            " 58%|█████▊    | 202M/348M [00:08<00:05, 26.5MB/s]\n",
            " 59%|█████▉    | 205M/348M [00:08<00:05, 24.1MB/s]\n",
            " 60%|██████    | 209M/348M [00:08<00:04, 28.2MB/s]\n",
            " 61%|██████    | 212M/348M [00:08<00:04, 27.6MB/s]\n",
            " 62%|██████▏   | 215M/348M [00:08<00:05, 26.1MB/s]\n",
            " 63%|██████▎   | 219M/348M [00:08<00:05, 24.7MB/s]\n",
            " 64%|██████▎   | 221M/348M [00:08<00:05, 24.3MB/s]\n",
            " 64%|██████▍   | 224M/348M [00:09<00:05, 23.3MB/s]\n",
            " 65%|██████▌   | 226M/348M [00:09<00:05, 24.0MB/s]\n",
            " 66%|██████▌   | 230M/348M [00:09<00:04, 25.4MB/s]\n",
            " 67%|██████▋   | 232M/348M [00:09<00:04, 25.5MB/s]\n",
            " 68%|██████▊   | 235M/348M [00:09<00:05, 22.3MB/s]\n",
            " 68%|██████▊   | 238M/348M [00:09<00:05, 18.5MB/s]\n",
            " 69%|██████▉   | 240M/348M [00:09<00:05, 20.3MB/s]\n",
            " 70%|██████▉   | 243M/348M [00:09<00:04, 21.6MB/s]\n",
            " 71%|███████   | 245M/348M [00:10<00:04, 21.1MB/s]\n",
            " 71%|███████▏  | 248M/348M [00:10<00:04, 22.4MB/s]\n",
            " 72%|███████▏  | 251M/348M [00:10<00:04, 22.3MB/s]\n",
            " 73%|███████▎  | 253M/348M [00:10<00:04, 20.1MB/s]\n",
            " 73%|███████▎  | 255M/348M [00:10<00:04, 19.6MB/s]\n",
            " 74%|███████▍  | 258M/348M [00:10<00:04, 20.4MB/s]\n",
            " 75%|███████▍  | 260M/348M [00:10<00:04, 20.5MB/s]\n",
            " 76%|███████▌  | 263M/348M [00:10<00:04, 20.4MB/s]\n",
            " 76%|███████▌  | 265M/348M [00:11<00:04, 18.6MB/s]\n",
            " 77%|███████▋  | 267M/348M [00:11<00:04, 19.2MB/s]\n",
            " 77%|███████▋  | 269M/348M [00:11<00:04, 18.1MB/s]\n",
            " 78%|███████▊  | 272M/348M [00:11<00:03, 19.9MB/s]\n",
            " 79%|███████▉  | 274M/348M [00:11<00:03, 21.0MB/s]\n",
            " 80%|███████▉  | 277M/348M [00:11<00:03, 22.4MB/s]\n",
            " 80%|████████  | 279M/348M [00:11<00:02, 23.3MB/s]\n",
            " 81%|████████  | 282M/348M [00:11<00:02, 22.2MB/s]\n",
            " 82%|████████▏ | 285M/348M [00:12<00:03, 17.7MB/s]\n",
            " 83%|████████▎ | 288M/348M [00:12<00:02, 22.0MB/s]\n",
            " 84%|████████▎ | 291M/348M [00:12<00:02, 20.6MB/s]\n",
            " 84%|████████▍ | 294M/348M [00:12<00:02, 20.6MB/s]\n",
            " 85%|████████▌ | 297M/348M [00:12<00:02, 22.6MB/s]\n",
            " 86%|████████▌ | 299M/348M [00:12<00:02, 22.6MB/s]\n",
            " 87%|████████▋ | 302M/348M [00:12<00:02, 22.6MB/s]\n",
            " 88%|████████▊ | 305M/348M [00:12<00:01, 23.0MB/s]\n",
            " 88%|████████▊ | 307M/348M [00:13<00:01, 22.2MB/s]\n",
            " 89%|████████▉ | 310M/348M [00:13<00:01, 22.9MB/s]\n",
            " 90%|█████████ | 314M/348M [00:13<00:01, 25.4MB/s]\n",
            " 91%|█████████ | 317M/348M [00:13<00:01, 25.6MB/s]\n",
            " 92%|█████████▏| 319M/348M [00:13<00:01, 23.6MB/s]\n",
            " 93%|█████████▎| 323M/348M [00:13<00:00, 26.0MB/s]\n",
            " 94%|█████████▍| 326M/348M [00:13<00:00, 25.3MB/s]\n",
            " 95%|█████████▍| 329M/348M [00:13<00:00, 24.5MB/s]\n",
            " 95%|█████████▌| 331M/348M [00:13<00:00, 24.9MB/s]\n",
            " 96%|█████████▋| 334M/348M [00:14<00:00, 25.6MB/s]\n",
            " 97%|█████████▋| 337M/348M [00:14<00:00, 24.7MB/s]\n",
            " 98%|█████████▊| 340M/348M [00:14<00:00, 24.1MB/s]\n",
            " 99%|█████████▊| 342M/348M [00:14<00:00, 23.2MB/s]\n",
            " 99%|█████████▉| 345M/348M [00:14<00:00, 21.3MB/s]\n",
            "100%|██████████| 348M/348M [00:14<00:00, 19.9MB/s]\n",
            "100%|██████████| 348M/348M [00:14<00:00, 23.6MB/s]\n",
            "Downloading...\n",
            "From: https://drive.google.com/uc?id=1-0q0JcBvsIcwwHVjWQ41a2yY_4XhM20u\n",
            "To: c:\\Users\\KHOOSHRIN\\Documents\\BITS PILANI HYDERABAD CAMPUS\\Third Year\\First Semester\\CS F429 - Natural Language Processing (NLP)\\Project\\NLP_validate_with_bert_embeddings.csv\n",
            "\n",
            "  0%|          | 0.00/20.4M [00:00<?, ?B/s]\n",
            "  3%|▎         | 524k/20.4M [00:00<00:14, 1.39MB/s]\n",
            "  8%|▊         | 1.57M/20.4M [00:00<00:05, 3.32MB/s]\n",
            " 15%|█▌        | 3.15M/20.4M [00:00<00:02, 6.30MB/s]\n",
            " 31%|███       | 6.29M/20.4M [00:00<00:01, 12.3MB/s]\n",
            " 51%|█████▏    | 10.5M/20.4M [00:00<00:00, 19.7MB/s]\n",
            " 75%|███████▍  | 15.2M/20.4M [00:00<00:00, 26.5MB/s]\n",
            " 93%|█████████▎| 18.9M/20.4M [00:01<00:00, 28.6MB/s]\n",
            "100%|██████████| 20.4M/20.4M [00:01<00:00, 17.8MB/s]\n",
            "Downloading...\n",
            "From: https://drive.google.com/uc?id=1JTq7EveehwEAw3SDNZsJLgVPE-dD0CXJ\n",
            "To: c:\\Users\\KHOOSHRIN\\Documents\\BITS PILANI HYDERABAD CAMPUS\\Third Year\\First Semester\\CS F429 - Natural Language Processing (NLP)\\Project\\NLP_test_with_bert_embeddings.csv\n",
            "\n",
            "  0%|          | 0.00/35.9M [00:00<?, ?B/s]\n",
            "  1%|▏         | 524k/35.9M [00:00<00:16, 2.11MB/s]\n",
            "  4%|▍         | 1.57M/35.9M [00:00<00:06, 5.09MB/s]\n",
            " 12%|█▏        | 4.19M/35.9M [00:00<00:02, 11.7MB/s]\n",
            " 19%|█▉        | 6.82M/35.9M [00:00<00:01, 15.6MB/s]\n",
            " 25%|██▍       | 8.91M/35.9M [00:00<00:01, 17.2MB/s]\n",
            " 34%|███▎      | 12.1M/35.9M [00:00<00:01, 19.9MB/s]\n",
            " 42%|████▏     | 15.2M/35.9M [00:00<00:00, 21.8MB/s]\n",
            " 50%|████▉     | 17.8M/35.9M [00:01<00:00, 22.7MB/s]\n",
            " 57%|█████▋    | 20.4M/35.9M [00:01<00:00, 22.1MB/s]\n",
            " 66%|██████▌   | 23.6M/35.9M [00:01<00:00, 24.2MB/s]\n",
            " 74%|███████▍  | 26.7M/35.9M [00:01<00:00, 25.0MB/s]\n",
            " 85%|████████▍ | 30.4M/35.9M [00:01<00:00, 27.1MB/s]\n",
            " 95%|█████████▍| 34.1M/35.9M [00:01<00:00, 28.4MB/s]\n",
            "100%|██████████| 35.9M/35.9M [00:01<00:00, 21.6MB/s]\n",
            "Downloading...\n",
            "From: https://drive.google.com/uc?id=1-1jWJUqh0z5RThpVgEbfMmnc-xvapoxS\n",
            "To: c:\\Users\\KHOOSHRIN\\Documents\\BITS PILANI HYDERABAD CAMPUS\\Third Year\\First Semester\\CS F429 - Natural Language Processing (NLP)\\Project\\NER_train.csv\n",
            "\n",
            "  0%|          | 0.00/2.69M [00:00<?, ?B/s]\n",
            " 20%|█▉        | 524k/2.69M [00:00<00:01, 1.37MB/s]\n",
            " 59%|█████▊    | 1.57M/2.69M [00:00<00:00, 3.37MB/s]\n",
            "100%|██████████| 2.69M/2.69M [00:00<00:00, 4.38MB/s]\n",
            "Downloading...\n",
            "From: https://drive.google.com/uc?id=1-9ddaARmlwwx1-5obKaTKs8Tf2RTurLt\n",
            "To: c:\\Users\\KHOOSHRIN\\Documents\\BITS PILANI HYDERABAD CAMPUS\\Third Year\\First Semester\\CS F429 - Natural Language Processing (NLP)\\Project\\NER_test.csv\n",
            "\n",
            "  0%|          | 0.00/411k [00:00<?, ?B/s]\n",
            "100%|██████████| 411k/411k [00:00<00:00, 1.09MB/s]\n",
            "100%|██████████| 411k/411k [00:00<00:00, 1.09MB/s]\n",
            "Downloading...\n",
            "From: https://drive.google.com/uc?id=1gK5pdvWcjSvCjf5jDYLaa9yHMoe-ctl-\n",
            "To: c:\\Users\\KHOOSHRIN\\Documents\\BITS PILANI HYDERABAD CAMPUS\\Third Year\\First Semester\\CS F429 - Natural Language Processing (NLP)\\Project\\NER_validate.csv\n",
            "\n",
            "  0%|          | 0.00/233k [00:00<?, ?B/s]\n",
            "100%|██████████| 233k/233k [00:00<00:00, 2.58MB/s]\n"
          ]
        }
      ],
      "source": [
        "!gdown 1g0jBWp3HZ1QhYDnNynh0A_jUdhmagixW\n",
        "!gdown 1-0q0JcBvsIcwwHVjWQ41a2yY_4XhM20u\n",
        "!gdown 1JTq7EveehwEAw3SDNZsJLgVPE-dD0CXJ\n",
        "!gdown 1-1jWJUqh0z5RThpVgEbfMmnc-xvapoxS\n",
        "!gdown 1-9ddaARmlwwx1-5obKaTKs8Tf2RTurLt\n",
        "!gdown 1gK5pdvWcjSvCjf5jDYLaa9yHMoe-ctl-"
      ]
    },
    {
      "cell_type": "code",
      "execution_count": 3,
      "metadata": {
        "id": "J0vNNyqHsIG3"
      },
      "outputs": [],
      "source": [
        "train = pd.read_csv(\"NLP_train_with_bert_embeddings.csv\")\n",
        "validate = pd.read_csv(\"NLP_validate_with_bert_embeddings.csv\")\n",
        "test = pd.read_csv(\"NLP_test_with_bert_embeddings.csv\")\n",
        "NERTrain = pd.read_csv(\"NER_train.csv\")\n",
        "NERTest = pd.read_csv(\"NER_test.csv\")\n",
        "NERVal = pd.read_csv(\"NER_validate.csv\")"
      ]
    },
    {
      "cell_type": "code",
      "execution_count": 4,
      "metadata": {
        "id": "x44WdD_nt3YT"
      },
      "outputs": [],
      "source": [
        "X_train = train['bert']\n",
        "Y_train = train['verdict']"
      ]
    },
    {
      "cell_type": "code",
      "execution_count": 5,
      "metadata": {
        "id": "B37TvMPCsxr6"
      },
      "outputs": [],
      "source": [
        "validate['verdict'] = validate['verdict'].apply(lambda x:1 if x=='spam' else 0)\n",
        "test['verdict'] = test['verdict'].apply(lambda x:1 if x=='spam' else 0)"
      ]
    },
    {
      "cell_type": "code",
      "execution_count": 5,
      "metadata": {
        "colab": {
          "base_uri": "https://localhost:8080/",
          "height": 505
        },
        "id": "mB3wzirT5NFC",
        "outputId": "8ec98c95-5486-464b-8221-494e99a3502d"
      },
      "outputs": [
        {
          "data": {
            "text/html": [
              "\n",
              "  <div id=\"df-cd14efe2-54f8-420a-974b-dc575d906295\">\n",
              "    <div class=\"colab-df-container\">\n",
              "      <div>\n",
              "<style scoped>\n",
              "    .dataframe tbody tr th:only-of-type {\n",
              "        vertical-align: middle;\n",
              "    }\n",
              "\n",
              "    .dataframe tbody tr th {\n",
              "        vertical-align: top;\n",
              "    }\n",
              "\n",
              "    .dataframe thead th {\n",
              "        text-align: right;\n",
              "    }\n",
              "</style>\n",
              "<table border=\"1\" class=\"dataframe\">\n",
              "  <thead>\n",
              "    <tr style=\"text-align: right;\">\n",
              "      <th></th>\n",
              "      <th>Unnamed: 0</th>\n",
              "      <th>DATE</th>\n",
              "      <th>CARDINAL</th>\n",
              "      <th>ORG</th>\n",
              "      <th>QUANTITY</th>\n",
              "      <th>PERSON</th>\n",
              "      <th>PERCENT</th>\n",
              "      <th>TIME</th>\n",
              "      <th>MONEY</th>\n",
              "      <th>GPE</th>\n",
              "      <th>ORDINAL</th>\n",
              "      <th>NORP</th>\n",
              "      <th>PRODUCT</th>\n",
              "      <th>EVENT</th>\n",
              "      <th>FAC</th>\n",
              "      <th>LOC</th>\n",
              "      <th>LANGUAGE</th>\n",
              "      <th>LAW</th>\n",
              "      <th>WORK_OF_ART</th>\n",
              "    </tr>\n",
              "  </thead>\n",
              "  <tbody>\n",
              "    <tr>\n",
              "      <th>0</th>\n",
              "      <td>0</td>\n",
              "      <td>1.0</td>\n",
              "      <td>1.0</td>\n",
              "      <td>0.0</td>\n",
              "      <td>0.0</td>\n",
              "      <td>0.0</td>\n",
              "      <td>0.0</td>\n",
              "      <td>0.0</td>\n",
              "      <td>0.0</td>\n",
              "      <td>0.0</td>\n",
              "      <td>0.0</td>\n",
              "      <td>0.0</td>\n",
              "      <td>0.0</td>\n",
              "      <td>0.0</td>\n",
              "      <td>0.0</td>\n",
              "      <td>0.0</td>\n",
              "      <td>0.0</td>\n",
              "      <td>0.0</td>\n",
              "      <td>0.0</td>\n",
              "    </tr>\n",
              "    <tr>\n",
              "      <th>1</th>\n",
              "      <td>1</td>\n",
              "      <td>2.0</td>\n",
              "      <td>2.0</td>\n",
              "      <td>2.0</td>\n",
              "      <td>0.0</td>\n",
              "      <td>0.0</td>\n",
              "      <td>0.0</td>\n",
              "      <td>0.0</td>\n",
              "      <td>0.0</td>\n",
              "      <td>0.0</td>\n",
              "      <td>0.0</td>\n",
              "      <td>0.0</td>\n",
              "      <td>0.0</td>\n",
              "      <td>0.0</td>\n",
              "      <td>0.0</td>\n",
              "      <td>0.0</td>\n",
              "      <td>0.0</td>\n",
              "      <td>0.0</td>\n",
              "      <td>0.0</td>\n",
              "    </tr>\n",
              "    <tr>\n",
              "      <th>2</th>\n",
              "      <td>2</td>\n",
              "      <td>3.0</td>\n",
              "      <td>2.0</td>\n",
              "      <td>3.0</td>\n",
              "      <td>0.0</td>\n",
              "      <td>0.0</td>\n",
              "      <td>0.0</td>\n",
              "      <td>0.0</td>\n",
              "      <td>0.0</td>\n",
              "      <td>0.0</td>\n",
              "      <td>0.0</td>\n",
              "      <td>0.0</td>\n",
              "      <td>0.0</td>\n",
              "      <td>0.0</td>\n",
              "      <td>0.0</td>\n",
              "      <td>0.0</td>\n",
              "      <td>0.0</td>\n",
              "      <td>0.0</td>\n",
              "      <td>0.0</td>\n",
              "    </tr>\n",
              "    <tr>\n",
              "      <th>3</th>\n",
              "      <td>3</td>\n",
              "      <td>0.0</td>\n",
              "      <td>29.0</td>\n",
              "      <td>2.0</td>\n",
              "      <td>1.0</td>\n",
              "      <td>0.0</td>\n",
              "      <td>0.0</td>\n",
              "      <td>0.0</td>\n",
              "      <td>0.0</td>\n",
              "      <td>0.0</td>\n",
              "      <td>0.0</td>\n",
              "      <td>0.0</td>\n",
              "      <td>0.0</td>\n",
              "      <td>0.0</td>\n",
              "      <td>0.0</td>\n",
              "      <td>0.0</td>\n",
              "      <td>0.0</td>\n",
              "      <td>0.0</td>\n",
              "      <td>0.0</td>\n",
              "    </tr>\n",
              "    <tr>\n",
              "      <th>4</th>\n",
              "      <td>4</td>\n",
              "      <td>3.0</td>\n",
              "      <td>1.0</td>\n",
              "      <td>0.0</td>\n",
              "      <td>0.0</td>\n",
              "      <td>1.0</td>\n",
              "      <td>0.0</td>\n",
              "      <td>0.0</td>\n",
              "      <td>0.0</td>\n",
              "      <td>0.0</td>\n",
              "      <td>0.0</td>\n",
              "      <td>0.0</td>\n",
              "      <td>0.0</td>\n",
              "      <td>0.0</td>\n",
              "      <td>0.0</td>\n",
              "      <td>0.0</td>\n",
              "      <td>0.0</td>\n",
              "      <td>0.0</td>\n",
              "      <td>0.0</td>\n",
              "    </tr>\n",
              "    <tr>\n",
              "      <th>...</th>\n",
              "      <td>...</td>\n",
              "      <td>...</td>\n",
              "      <td>...</td>\n",
              "      <td>...</td>\n",
              "      <td>...</td>\n",
              "      <td>...</td>\n",
              "      <td>...</td>\n",
              "      <td>...</td>\n",
              "      <td>...</td>\n",
              "      <td>...</td>\n",
              "      <td>...</td>\n",
              "      <td>...</td>\n",
              "      <td>...</td>\n",
              "      <td>...</td>\n",
              "      <td>...</td>\n",
              "      <td>...</td>\n",
              "      <td>...</td>\n",
              "      <td>...</td>\n",
              "      <td>...</td>\n",
              "    </tr>\n",
              "    <tr>\n",
              "      <th>34549</th>\n",
              "      <td>34549</td>\n",
              "      <td>1.0</td>\n",
              "      <td>2.0</td>\n",
              "      <td>0.0</td>\n",
              "      <td>0.0</td>\n",
              "      <td>1.0</td>\n",
              "      <td>0.0</td>\n",
              "      <td>0.0</td>\n",
              "      <td>0.0</td>\n",
              "      <td>0.0</td>\n",
              "      <td>0.0</td>\n",
              "      <td>0.0</td>\n",
              "      <td>0.0</td>\n",
              "      <td>0.0</td>\n",
              "      <td>0.0</td>\n",
              "      <td>0.0</td>\n",
              "      <td>0.0</td>\n",
              "      <td>0.0</td>\n",
              "      <td>0.0</td>\n",
              "    </tr>\n",
              "    <tr>\n",
              "      <th>34550</th>\n",
              "      <td>34550</td>\n",
              "      <td>1.0</td>\n",
              "      <td>0.0</td>\n",
              "      <td>1.0</td>\n",
              "      <td>0.0</td>\n",
              "      <td>0.0</td>\n",
              "      <td>0.0</td>\n",
              "      <td>1.0</td>\n",
              "      <td>0.0</td>\n",
              "      <td>0.0</td>\n",
              "      <td>0.0</td>\n",
              "      <td>0.0</td>\n",
              "      <td>0.0</td>\n",
              "      <td>0.0</td>\n",
              "      <td>0.0</td>\n",
              "      <td>0.0</td>\n",
              "      <td>0.0</td>\n",
              "      <td>0.0</td>\n",
              "      <td>0.0</td>\n",
              "    </tr>\n",
              "    <tr>\n",
              "      <th>34551</th>\n",
              "      <td>34551</td>\n",
              "      <td>1.0</td>\n",
              "      <td>2.0</td>\n",
              "      <td>0.0</td>\n",
              "      <td>0.0</td>\n",
              "      <td>0.0</td>\n",
              "      <td>0.0</td>\n",
              "      <td>0.0</td>\n",
              "      <td>0.0</td>\n",
              "      <td>0.0</td>\n",
              "      <td>0.0</td>\n",
              "      <td>0.0</td>\n",
              "      <td>0.0</td>\n",
              "      <td>0.0</td>\n",
              "      <td>0.0</td>\n",
              "      <td>0.0</td>\n",
              "      <td>0.0</td>\n",
              "      <td>0.0</td>\n",
              "      <td>0.0</td>\n",
              "    </tr>\n",
              "    <tr>\n",
              "      <th>34552</th>\n",
              "      <td>34552</td>\n",
              "      <td>2.0</td>\n",
              "      <td>7.0</td>\n",
              "      <td>1.0</td>\n",
              "      <td>0.0</td>\n",
              "      <td>1.0</td>\n",
              "      <td>0.0</td>\n",
              "      <td>0.0</td>\n",
              "      <td>0.0</td>\n",
              "      <td>0.0</td>\n",
              "      <td>0.0</td>\n",
              "      <td>0.0</td>\n",
              "      <td>0.0</td>\n",
              "      <td>0.0</td>\n",
              "      <td>0.0</td>\n",
              "      <td>0.0</td>\n",
              "      <td>0.0</td>\n",
              "      <td>0.0</td>\n",
              "      <td>0.0</td>\n",
              "    </tr>\n",
              "    <tr>\n",
              "      <th>34553</th>\n",
              "      <td>34553</td>\n",
              "      <td>1.0</td>\n",
              "      <td>0.0</td>\n",
              "      <td>0.0</td>\n",
              "      <td>0.0</td>\n",
              "      <td>0.0</td>\n",
              "      <td>0.0</td>\n",
              "      <td>0.0</td>\n",
              "      <td>0.0</td>\n",
              "      <td>1.0</td>\n",
              "      <td>0.0</td>\n",
              "      <td>0.0</td>\n",
              "      <td>0.0</td>\n",
              "      <td>0.0</td>\n",
              "      <td>0.0</td>\n",
              "      <td>0.0</td>\n",
              "      <td>0.0</td>\n",
              "      <td>0.0</td>\n",
              "      <td>0.0</td>\n",
              "    </tr>\n",
              "  </tbody>\n",
              "</table>\n",
              "<p>34554 rows × 19 columns</p>\n",
              "</div>\n",
              "      <button class=\"colab-df-convert\" onclick=\"convertToInteractive('df-cd14efe2-54f8-420a-974b-dc575d906295')\"\n",
              "              title=\"Convert this dataframe to an interactive table.\"\n",
              "              style=\"display:none;\">\n",
              "        \n",
              "  <svg xmlns=\"http://www.w3.org/2000/svg\" height=\"24px\"viewBox=\"0 0 24 24\"\n",
              "       width=\"24px\">\n",
              "    <path d=\"M0 0h24v24H0V0z\" fill=\"none\"/>\n",
              "    <path d=\"M18.56 5.44l.94 2.06.94-2.06 2.06-.94-2.06-.94-.94-2.06-.94 2.06-2.06.94zm-11 1L8.5 8.5l.94-2.06 2.06-.94-2.06-.94L8.5 2.5l-.94 2.06-2.06.94zm10 10l.94 2.06.94-2.06 2.06-.94-2.06-.94-.94-2.06-.94 2.06-2.06.94z\"/><path d=\"M17.41 7.96l-1.37-1.37c-.4-.4-.92-.59-1.43-.59-.52 0-1.04.2-1.43.59L10.3 9.45l-7.72 7.72c-.78.78-.78 2.05 0 2.83L4 21.41c.39.39.9.59 1.41.59.51 0 1.02-.2 1.41-.59l7.78-7.78 2.81-2.81c.8-.78.8-2.07 0-2.86zM5.41 20L4 18.59l7.72-7.72 1.47 1.35L5.41 20z\"/>\n",
              "  </svg>\n",
              "      </button>\n",
              "      \n",
              "  <style>\n",
              "    .colab-df-container {\n",
              "      display:flex;\n",
              "      flex-wrap:wrap;\n",
              "      gap: 12px;\n",
              "    }\n",
              "\n",
              "    .colab-df-convert {\n",
              "      background-color: #E8F0FE;\n",
              "      border: none;\n",
              "      border-radius: 50%;\n",
              "      cursor: pointer;\n",
              "      display: none;\n",
              "      fill: #1967D2;\n",
              "      height: 32px;\n",
              "      padding: 0 0 0 0;\n",
              "      width: 32px;\n",
              "    }\n",
              "\n",
              "    .colab-df-convert:hover {\n",
              "      background-color: #E2EBFA;\n",
              "      box-shadow: 0px 1px 2px rgba(60, 64, 67, 0.3), 0px 1px 3px 1px rgba(60, 64, 67, 0.15);\n",
              "      fill: #174EA6;\n",
              "    }\n",
              "\n",
              "    [theme=dark] .colab-df-convert {\n",
              "      background-color: #3B4455;\n",
              "      fill: #D2E3FC;\n",
              "    }\n",
              "\n",
              "    [theme=dark] .colab-df-convert:hover {\n",
              "      background-color: #434B5C;\n",
              "      box-shadow: 0px 1px 3px 1px rgba(0, 0, 0, 0.15);\n",
              "      filter: drop-shadow(0px 1px 2px rgba(0, 0, 0, 0.3));\n",
              "      fill: #FFFFFF;\n",
              "    }\n",
              "  </style>\n",
              "\n",
              "      <script>\n",
              "        const buttonEl =\n",
              "          document.querySelector('#df-cd14efe2-54f8-420a-974b-dc575d906295 button.colab-df-convert');\n",
              "        buttonEl.style.display =\n",
              "          google.colab.kernel.accessAllowed ? 'block' : 'none';\n",
              "\n",
              "        async function convertToInteractive(key) {\n",
              "          const element = document.querySelector('#df-cd14efe2-54f8-420a-974b-dc575d906295');\n",
              "          const dataTable =\n",
              "            await google.colab.kernel.invokeFunction('convertToInteractive',\n",
              "                                                     [key], {});\n",
              "          if (!dataTable) return;\n",
              "\n",
              "          const docLinkHtml = 'Like what you see? Visit the ' +\n",
              "            '<a target=\"_blank\" href=https://colab.research.google.com/notebooks/data_table.ipynb>data table notebook</a>'\n",
              "            + ' to learn more about interactive tables.';\n",
              "          element.innerHTML = '';\n",
              "          dataTable['output_type'] = 'display_data';\n",
              "          await google.colab.output.renderOutput(dataTable, element);\n",
              "          const docLink = document.createElement('div');\n",
              "          docLink.innerHTML = docLinkHtml;\n",
              "          element.appendChild(docLink);\n",
              "        }\n",
              "      </script>\n",
              "    </div>\n",
              "  </div>\n",
              "  "
            ],
            "text/plain": [
              "       Unnamed: 0  DATE  CARDINAL  ORG  QUANTITY  PERSON  PERCENT  TIME  \\\n",
              "0               0   1.0       1.0  0.0       0.0     0.0      0.0   0.0   \n",
              "1               1   2.0       2.0  2.0       0.0     0.0      0.0   0.0   \n",
              "2               2   3.0       2.0  3.0       0.0     0.0      0.0   0.0   \n",
              "3               3   0.0      29.0  2.0       1.0     0.0      0.0   0.0   \n",
              "4               4   3.0       1.0  0.0       0.0     1.0      0.0   0.0   \n",
              "...           ...   ...       ...  ...       ...     ...      ...   ...   \n",
              "34549       34549   1.0       2.0  0.0       0.0     1.0      0.0   0.0   \n",
              "34550       34550   1.0       0.0  1.0       0.0     0.0      0.0   1.0   \n",
              "34551       34551   1.0       2.0  0.0       0.0     0.0      0.0   0.0   \n",
              "34552       34552   2.0       7.0  1.0       0.0     1.0      0.0   0.0   \n",
              "34553       34553   1.0       0.0  0.0       0.0     0.0      0.0   0.0   \n",
              "\n",
              "       MONEY  GPE  ORDINAL  NORP  PRODUCT  EVENT  FAC  LOC  LANGUAGE  LAW  \\\n",
              "0        0.0  0.0      0.0   0.0      0.0    0.0  0.0  0.0       0.0  0.0   \n",
              "1        0.0  0.0      0.0   0.0      0.0    0.0  0.0  0.0       0.0  0.0   \n",
              "2        0.0  0.0      0.0   0.0      0.0    0.0  0.0  0.0       0.0  0.0   \n",
              "3        0.0  0.0      0.0   0.0      0.0    0.0  0.0  0.0       0.0  0.0   \n",
              "4        0.0  0.0      0.0   0.0      0.0    0.0  0.0  0.0       0.0  0.0   \n",
              "...      ...  ...      ...   ...      ...    ...  ...  ...       ...  ...   \n",
              "34549    0.0  0.0      0.0   0.0      0.0    0.0  0.0  0.0       0.0  0.0   \n",
              "34550    0.0  0.0      0.0   0.0      0.0    0.0  0.0  0.0       0.0  0.0   \n",
              "34551    0.0  0.0      0.0   0.0      0.0    0.0  0.0  0.0       0.0  0.0   \n",
              "34552    0.0  0.0      0.0   0.0      0.0    0.0  0.0  0.0       0.0  0.0   \n",
              "34553    0.0  1.0      0.0   0.0      0.0    0.0  0.0  0.0       0.0  0.0   \n",
              "\n",
              "       WORK_OF_ART  \n",
              "0              0.0  \n",
              "1              0.0  \n",
              "2              0.0  \n",
              "3              0.0  \n",
              "4              0.0  \n",
              "...            ...  \n",
              "34549          0.0  \n",
              "34550          0.0  \n",
              "34551          0.0  \n",
              "34552          0.0  \n",
              "34553          0.0  \n",
              "\n",
              "[34554 rows x 19 columns]"
            ]
          },
          "execution_count": 5,
          "metadata": {},
          "output_type": "execute_result"
        }
      ],
      "source": [
        "NERTrain"
      ]
    },
    {
      "cell_type": "code",
      "execution_count": 6,
      "metadata": {
        "id": "U76FSOW25NFC"
      },
      "outputs": [],
      "source": [
        "NER_Train = NERTrain.iloc[:,1:].to_numpy()"
      ]
    },
    {
      "cell_type": "code",
      "execution_count": 7,
      "metadata": {
        "colab": {
          "base_uri": "https://localhost:8080/"
        },
        "id": "DO20B4dj5NFC",
        "outputId": "561313fc-f8c5-4c92-b11a-f37185398214"
      },
      "outputs": [
        {
          "data": {
            "text/plain": [
              "array([[1., 1., 0., ..., 0., 0., 0.],\n",
              "       [2., 2., 2., ..., 0., 0., 0.],\n",
              "       [3., 2., 3., ..., 0., 0., 0.],\n",
              "       ...,\n",
              "       [1., 2., 0., ..., 0., 0., 0.],\n",
              "       [2., 7., 1., ..., 0., 0., 0.],\n",
              "       [1., 0., 0., ..., 0., 0., 0.]])"
            ]
          },
          "execution_count": 7,
          "metadata": {},
          "output_type": "execute_result"
        }
      ],
      "source": [
        "NER_Train"
      ]
    },
    {
      "cell_type": "code",
      "execution_count": 7,
      "metadata": {
        "id": "mxtSWlO-5NFD"
      },
      "outputs": [],
      "source": [
        "NER_Test = NERTest.iloc[:,1:].to_numpy()"
      ]
    },
    {
      "cell_type": "code",
      "execution_count": null,
      "metadata": {
        "id": "HO2zOX4KtQ7I",
        "outputId": "49441dda-cbb6-47d2-8dc8-187e068e476a"
      },
      "outputs": [
        {
          "name": "stdout",
          "output_type": "stream",
          "text": [
            "WARNING:tensorflow:Please fix your imports. Module tensorflow.python.training.tracking.data_structures has been moved to tensorflow.python.trackable.data_structures. The old module will be deleted in version 2.11.\n"
          ]
        }
      ],
      "source": [
        "# downloading preprocessing files and model\n",
        "bert_preprocessor = hub.KerasLayer('https://tfhub.dev/tensorflow/bert_en_uncased_preprocess/3')\n",
        "bert_encoder = hub.KerasLayer('https://tfhub.dev/tensorflow/bert_en_uncased_L-12_H-768_A-12/4')"
      ]
    },
    {
      "cell_type": "code",
      "execution_count": null,
      "metadata": {
        "id": "0LXl7c4-tZxN"
      },
      "outputs": [],
      "source": [
        "text_input = tf.keras.layers.Input(shape = (), dtype = tf.string, name = 'Inputs')\n",
        "preprocessed_text = bert_preprocessor(text_input)\n",
        "embeed = bert_encoder(preprocessed_text)\n",
        "dropout = tf.keras.layers.Dropout(0.1, name = 'Dropout')(embeed['pooled_output'])\n",
        "outputs = tf.keras.layers.Dense(1, activation = 'sigmoid', name = 'Dense')(dropout)"
      ]
    },
    {
      "cell_type": "code",
      "execution_count": null,
      "metadata": {
        "id": "Ww7OOVoetdPb"
      },
      "outputs": [],
      "source": [
        "# creating final model\n",
        "model = tf.keras.Model(inputs = [text_input], outputs = [outputs])"
      ]
    },
    {
      "cell_type": "code",
      "execution_count": null,
      "metadata": {
        "id": "PBygjokStsa2"
      },
      "outputs": [],
      "source": [
        "Metrics = [tf.keras.metrics.BinaryAccuracy(name = 'accuracy'),\n",
        "           tf.keras.metrics.Precision(name = 'precision'),\n",
        "           tf.keras.metrics.Recall(name = 'recall')\n",
        "           ]"
      ]
    },
    {
      "cell_type": "code",
      "execution_count": null,
      "metadata": {
        "id": "OVhc0dZqttyr"
      },
      "outputs": [],
      "source": [
        "# compiling our model\n",
        "model.compile(optimizer ='adam',\n",
        "               loss = 'binary_crossentropy',\n",
        "               metrics = Metrics)"
      ]
    },
    {
      "cell_type": "code",
      "execution_count": 12,
      "metadata": {
        "id": "m9JuX9NT5NFE"
      },
      "outputs": [],
      "source": [
        "X_test=test['bert']\n",
        "y_test=test['verdict']"
      ]
    },
    {
      "cell_type": "code",
      "execution_count": 8,
      "metadata": {
        "id": "eLP2JuI_5NFH"
      },
      "outputs": [],
      "source": [
        "float_train_embeddings=[]\n",
        "index = 0\n",
        "for each_embedding in X_train:\n",
        "  each_element=each_embedding.split()\n",
        "  each_element[0]=each_element[0][1:]\n",
        "  if len(each_element[0]) == 0:\n",
        "    each_element.remove('')\n",
        "  each_element[len(each_element)-1]=each_element[len(each_element)-1][0:len(each_element[len(each_element)-1])-1]\n",
        "  float_each_element=[float(i) for i in each_element]\n",
        "  for cnt_ner in NER_Train[index]:\n",
        "    float_each_element.append(cnt_ner)\n",
        "  float_train_embeddings.append(float_each_element)\n",
        "  index += 1"
      ]
    },
    {
      "cell_type": "code",
      "execution_count": 9,
      "metadata": {
        "id": "Bv5RbAh95NFH"
      },
      "outputs": [],
      "source": [
        "X_train_final = np.array(float_train_embeddings)"
      ]
    },
    {
      "cell_type": "code",
      "execution_count": 10,
      "metadata": {
        "colab": {
          "base_uri": "https://localhost:8080/"
        },
        "id": "A1sGXykc5NFH",
        "outputId": "759bb10f-f1cd-4642-e028-f33cd2c70f1a"
      },
      "outputs": [
        {
          "name": "stdout",
          "output_type": "stream",
          "text": [
            "Epoch 1/10\n",
            "1080/1080 [==============================] - 2s 2ms/step - loss: 0.3274 - accuracy: 0.8821\n",
            "Epoch 2/10\n",
            "1080/1080 [==============================] - 2s 2ms/step - loss: 0.1039 - accuracy: 0.9744\n",
            "Epoch 3/10\n",
            "1080/1080 [==============================] - 2s 2ms/step - loss: 0.0735 - accuracy: 0.9783\n",
            "Epoch 4/10\n",
            "1080/1080 [==============================] - 2s 2ms/step - loss: 0.0639 - accuracy: 0.9795\n",
            "Epoch 5/10\n",
            "1080/1080 [==============================] - 2s 2ms/step - loss: 0.0568 - accuracy: 0.9809\n",
            "Epoch 6/10\n",
            "1080/1080 [==============================] - 2s 2ms/step - loss: 0.0535 - accuracy: 0.9822\n",
            "Epoch 7/10\n",
            "1080/1080 [==============================] - 2s 2ms/step - loss: 0.0503 - accuracy: 0.9831\n",
            "Epoch 8/10\n",
            "1080/1080 [==============================] - 2s 2ms/step - loss: 0.0475 - accuracy: 0.9842\n",
            "Epoch 9/10\n",
            "1080/1080 [==============================] - 2s 2ms/step - loss: 0.0444 - accuracy: 0.9840\n",
            "Epoch 10/10\n",
            "1080/1080 [==============================] - 2s 2ms/step - loss: 0.0421 - accuracy: 0.9851\n"
          ]
        },
        {
          "data": {
            "text/plain": [
              "<keras.callbacks.History at 0x26b2dda8790>"
            ]
          },
          "execution_count": 10,
          "metadata": {},
          "output_type": "execute_result"
        }
      ],
      "source": [
        "model = tf.keras.Sequential([\n",
        "    tf.keras.layers.Input(shape=(402,)),\n",
        "    tf.keras.layers.Dense(256, activation = 'sigmoid'),\n",
        "    tf.keras.layers.Dense(128, activation = 'sigmoid'),\n",
        "    tf.keras.layers.Dense(64, activation = 'sigmoid'),\n",
        "    tf.keras.layers.Dense(32, activation = 'sigmoid'),\n",
        "    tf.keras.layers.Dense(16, activation = 'sigmoid'),\n",
        "    tf.keras.layers.Dense(8, activation = 'sigmoid'),\n",
        "    tf.keras.layers.Dense(4, activation = 'sigmoid'),\n",
        "    tf.keras.layers.Dense(2, activation = 'softmax')\n",
        "])\n",
        "model.compile(loss='sparse_categorical_crossentropy', optimizer='adam', metrics=['accuracy'])\n",
        "model.fit(X_train_final, Y_train, epochs=10)"
      ]
    },
    {
      "cell_type": "code",
      "execution_count": 13,
      "metadata": {
        "id": "FYOCEcIw5NFH"
      },
      "outputs": [],
      "source": [
        "float_train_embeddings=[]\n",
        "index = 0\n",
        "for each_embedding in X_test:\n",
        "  each_element=each_embedding.split()\n",
        "  each_element[0]=each_element[0][1:]\n",
        "  if len(each_element[0]) == 0:\n",
        "    each_element.remove('')\n",
        "  each_element[len(each_element)-1]=each_element[len(each_element)-1][0:len(each_element[len(each_element)-1])-1]\n",
        "  float_each_element=[float(i) for i in each_element]\n",
        "  for cnt_ner in NER_Test[index]:\n",
        "    float_each_element.append(cnt_ner)\n",
        "  float_train_embeddings.append(float_each_element)\n",
        "  index += 1"
      ]
    },
    {
      "cell_type": "code",
      "execution_count": 14,
      "metadata": {
        "id": "3kwTYlS_5NFH"
      },
      "outputs": [],
      "source": [
        "X_test_final = np.array(float_train_embeddings)"
      ]
    },
    {
      "cell_type": "code",
      "execution_count": 15,
      "metadata": {
        "colab": {
          "base_uri": "https://localhost:8080/"
        },
        "id": "KWPETCTA5NFI",
        "outputId": "77ebda19-0594-4480-c2b6-cdd5ce73a51c"
      },
      "outputs": [
        {
          "name": "stdout",
          "output_type": "stream",
          "text": [
            "168/168 [==============================] - 0s 1ms/step - loss: 0.0567 - accuracy: 0.9807\n"
          ]
        },
        {
          "data": {
            "text/plain": [
              "[0.05666358396410942, 0.9807440638542175]"
            ]
          },
          "execution_count": 15,
          "metadata": {},
          "output_type": "execute_result"
        }
      ],
      "source": [
        "model.evaluate(X_test_final,y_test)"
      ]
    },
    {
      "cell_type": "code",
      "execution_count": 16,
      "metadata": {},
      "outputs": [
        {
          "name": "stdout",
          "output_type": "stream",
          "text": [
            "168/168 [==============================] - 0s 1ms/step\n"
          ]
        }
      ],
      "source": [
        "y_pred = model.predict(X_test_final)"
      ]
    },
    {
      "cell_type": "code",
      "execution_count": 17,
      "metadata": {},
      "outputs": [],
      "source": [
        "y_pred=y_pred.flatten()"
      ]
    },
    {
      "cell_type": "code",
      "execution_count": 18,
      "metadata": {},
      "outputs": [],
      "source": [
        "final_y_pred=[]\n",
        "ind = 0\n",
        "for each_y_pred in y_pred:\n",
        "    if ind%2==1 and each_y_pred<0.5:\n",
        "        final_y_pred.append(0)\n",
        "    elif ind%2==1:\n",
        "        final_y_pred.append(1)\n",
        "    ind += 1"
      ]
    },
    {
      "cell_type": "code",
      "execution_count": 19,
      "metadata": {},
      "outputs": [
        {
          "data": {
            "text/plain": [
              "array([[2451,   48],\n",
              "       [  55, 2795]], dtype=int64)"
            ]
          },
          "execution_count": 19,
          "metadata": {},
          "output_type": "execute_result"
        }
      ],
      "source": [
        "from sklearn.metrics import confusion_matrix , classification_report\n",
        "\n",
        "# creating confusion matrix \n",
        "\n",
        "cm = confusion_matrix(y_test,final_y_pred)\n",
        "\n",
        "cm"
      ]
    },
    {
      "cell_type": "code",
      "execution_count": 20,
      "metadata": {},
      "outputs": [
        {
          "data": {
            "text/plain": [
              "Text(50.722222222222214, 0.5, 'Actual')"
            ]
          },
          "execution_count": 20,
          "metadata": {},
          "output_type": "execute_result"
        },
        {
          "data": {
            "image/png": "[encoded data removed]",
            "text/plain": [
              "<Figure size 640x480 with 2 Axes>"
            ]
          },
          "metadata": {},
          "output_type": "display_data"
        }
      ],
      "source": [
        "# plotting as a graph - importing seaborn\n",
        "import seaborn as sns\n",
        "from matplotlib import pyplot as plt\n",
        "# creating a graph out of confusion matrix\n",
        "sns.heatmap(cm, annot = True, fmt = 'd')\n",
        "plt.xlabel('Predicted')\n",
        "plt.ylabel('Actual')"
      ]
    }
  ],
  "metadata": {
    "colab": {
      "provenance": []
    },
    "kernelspec": {
      "display_name": "Python 3.10.3 64-bit",
      "language": "python",
      "name": "python3"
    },
    "language_info": {
      "codemirror_mode": {
        "name": "ipython",
        "version": 3
      },
      "file_extension": ".py",
      "mimetype": "text/x-python",
      "name": "python",
      "nbconvert_exporter": "python",
      "pygments_lexer": "ipython3",
      "version": "3.10.3 (tags/v3.10.3:a342a49, Mar 16 2022, 13:07:40) [MSC v.1929 64 bit (AMD64)]"
    },
    "vscode": {
      "interpreter": {
        "hash": "a9d96572ae50ddc70c142db473993b6399d52e4b3ec9b96e7dde07933e8f9bdc"
      }
    }
  },
  "nbformat": 4,
  "nbformat_minor": 0
}
