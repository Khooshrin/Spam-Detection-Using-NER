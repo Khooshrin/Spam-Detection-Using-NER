{
  "cells": [
    {
      "cell_type": "code",
      "execution_count": 2,
      "metadata": {
        "colab": {
          "base_uri": "https://localhost:8080/"
        },
        "id": "gvHA0GxwqO9P",
        "outputId": "2240cca2-c8ad-47dc-edc1-3ea76460b8e5"
      },
      "outputs": [
        {
          "name": "stdout",
          "output_type": "stream",
          "text": [
            "Requirement already satisfied: tensorflow-text in c:\\python\\python3103\\lib\\site-packages (2.10.0)\n",
            "Requirement already satisfied: tensorflow<2.11,>=2.10.0 in c:\\python\\python3103\\lib\\site-packages (from tensorflow-text) (2.10.1)\n",
            "Requirement already satisfied: tensorflow-hub>=0.8.0 in c:\\python\\python3103\\lib\\site-packages (from tensorflow-text) (0.12.0)\n",
            "Requirement already satisfied: flatbuffers>=2.0 in c:\\python\\python3103\\lib\\site-packages (from tensorflow<2.11,>=2.10.0->tensorflow-text) (22.11.23)\n",
            "Requirement already satisfied: keras-preprocessing>=1.1.1 in c:\\python\\python3103\\lib\\site-packages (from tensorflow<2.11,>=2.10.0->tensorflow-text) (1.1.2)\n",
            "Requirement already satisfied: keras<2.11,>=2.10.0 in c:\\python\\python3103\\lib\\site-packages (from tensorflow<2.11,>=2.10.0->tensorflow-text) (2.10.0)\n",
            "Requirement already satisfied: gast<=0.4.0,>=0.2.1 in c:\\python\\python3103\\lib\\site-packages (from tensorflow<2.11,>=2.10.0->tensorflow-text) (0.4.0)\n",
            "Requirement already satisfied: libclang>=13.0.0 in c:\\python\\python3103\\lib\\site-packages (from tensorflow<2.11,>=2.10.0->tensorflow-text) (14.0.6)\n",
            "Requirement already satisfied: tensorflow-io-gcs-filesystem>=0.23.1 in c:\\python\\python3103\\lib\\site-packages (from tensorflow<2.11,>=2.10.0->tensorflow-text) (0.28.0)\n",
            "Requirement already satisfied: astunparse>=1.6.0 in c:\\python\\python3103\\lib\\site-packages (from tensorflow<2.11,>=2.10.0->tensorflow-text) (1.6.3)\n",
            "Requirement already satisfied: h5py>=2.9.0 in c:\\python\\python3103\\lib\\site-packages (from tensorflow<2.11,>=2.10.0->tensorflow-text) (3.7.0)\n",
            "Requirement already satisfied: opt-einsum>=2.3.2 in c:\\python\\python3103\\lib\\site-packages (from tensorflow<2.11,>=2.10.0->tensorflow-text) (3.3.0)\n",
            "Requirement already satisfied: termcolor>=1.1.0 in c:\\python\\python3103\\lib\\site-packages (from tensorflow<2.11,>=2.10.0->tensorflow-text) (2.1.1)\n",
            "Requirement already satisfied: tensorboard<2.11,>=2.10 in c:\\python\\python3103\\lib\\site-packages (from tensorflow<2.11,>=2.10.0->tensorflow-text) (2.10.1)\n",
            "Requirement already satisfied: setuptools in c:\\python\\python3103\\lib\\site-packages (from tensorflow<2.11,>=2.10.0->tensorflow-text) (58.1.0)\n",
            "Requirement already satisfied: packaging in c:\\python\\python3103\\lib\\site-packages (from tensorflow<2.11,>=2.10.0->tensorflow-text) (21.3)\n",
            "Requirement already satisfied: tensorflow-estimator<2.11,>=2.10.0 in c:\\python\\python3103\\lib\\site-packages (from tensorflow<2.11,>=2.10.0->tensorflow-text) (2.10.0)\n",
            "Requirement already satisfied: google-pasta>=0.1.1 in c:\\python\\python3103\\lib\\site-packages (from tensorflow<2.11,>=2.10.0->tensorflow-text) (0.2.0)\n",
            "Requirement already satisfied: wrapt>=1.11.0 in c:\\python\\python3103\\lib\\site-packages (from tensorflow<2.11,>=2.10.0->tensorflow-text) (1.14.1)\n",
            "Requirement already satisfied: numpy>=1.20 in c:\\python\\python3103\\lib\\site-packages (from tensorflow<2.11,>=2.10.0->tensorflow-text) (1.23.4)\n",
            "Requirement already satisfied: protobuf<3.20,>=3.9.2 in c:\\python\\python3103\\lib\\site-packages (from tensorflow<2.11,>=2.10.0->tensorflow-text) (3.19.6)\n",
            "Requirement already satisfied: six>=1.12.0 in c:\\python\\python3103\\lib\\site-packages (from tensorflow<2.11,>=2.10.0->tensorflow-text) (1.16.0)\n",
            "Requirement already satisfied: typing-extensions>=3.6.6 in c:\\python\\python3103\\lib\\site-packages (from tensorflow<2.11,>=2.10.0->tensorflow-text) (4.3.0)\n",
            "Requirement already satisfied: grpcio<2.0,>=1.24.3 in c:\\python\\python3103\\lib\\site-packages (from tensorflow<2.11,>=2.10.0->tensorflow-text) (1.51.1)\n",
            "Requirement already satisfied: absl-py>=1.0.0 in c:\\python\\python3103\\lib\\site-packages (from tensorflow<2.11,>=2.10.0->tensorflow-text) (1.3.0)\n",
            "Requirement already satisfied: wheel<1.0,>=0.23.0 in c:\\python\\python3103\\lib\\site-packages (from astunparse>=1.6.0->tensorflow<2.11,>=2.10.0->tensorflow-text) (0.38.4)\n",
            "Requirement already satisfied: tensorboard-data-server<0.7.0,>=0.6.0 in c:\\python\\python3103\\lib\\site-packages (from tensorboard<2.11,>=2.10->tensorflow<2.11,>=2.10.0->tensorflow-text) (0.6.1)\n",
            "Requirement already satisfied: tensorboard-plugin-wit>=1.6.0 in c:\\python\\python3103\\lib\\site-packages (from tensorboard<2.11,>=2.10->tensorflow<2.11,>=2.10.0->tensorflow-text) (1.8.1)\n",
            "Requirement already satisfied: google-auth-oauthlib<0.5,>=0.4.1 in c:\\python\\python3103\\lib\\site-packages (from tensorboard<2.11,>=2.10->tensorflow<2.11,>=2.10.0->tensorflow-text) (0.4.6)\n",
            "Requirement already satisfied: requests<3,>=2.21.0 in c:\\python\\python3103\\lib\\site-packages (from tensorboard<2.11,>=2.10->tensorflow<2.11,>=2.10.0->tensorflow-text) (2.28.1)\n",
            "Requirement already satisfied: google-auth<3,>=1.6.3 in c:\\python\\python3103\\lib\\site-packages (from tensorboard<2.11,>=2.10->tensorflow<2.11,>=2.10.0->tensorflow-text) (2.15.0)\n",
            "Requirement already satisfied: markdown>=2.6.8 in c:\\python\\python3103\\lib\\site-packages (from tensorboard<2.11,>=2.10->tensorflow<2.11,>=2.10.0->tensorflow-text) (3.3.6)\n",
            "Requirement already satisfied: werkzeug>=1.0.1 in c:\\python\\python3103\\lib\\site-packages (from tensorboard<2.11,>=2.10->tensorflow<2.11,>=2.10.0->tensorflow-text) (2.2.2)\n",
            "Requirement already satisfied: pyparsing!=3.0.5,>=2.0.2 in c:\\python\\python3103\\lib\\site-packages (from packaging->tensorflow<2.11,>=2.10.0->tensorflow-text) (3.0.9)\n",
            "Requirement already satisfied: pyasn1-modules>=0.2.1 in c:\\python\\python3103\\lib\\site-packages (from google-auth<3,>=1.6.3->tensorboard<2.11,>=2.10->tensorflow<2.11,>=2.10.0->tensorflow-text) (0.2.8)\n",
            "Requirement already satisfied: cachetools<6.0,>=2.0.0 in c:\\python\\python3103\\lib\\site-packages (from google-auth<3,>=1.6.3->tensorboard<2.11,>=2.10->tensorflow<2.11,>=2.10.0->tensorflow-text) (5.2.0)\n",
            "Requirement already satisfied: rsa<5,>=3.1.4 in c:\\python\\python3103\\lib\\site-packages (from google-auth<3,>=1.6.3->tensorboard<2.11,>=2.10->tensorflow<2.11,>=2.10.0->tensorflow-text) (4.9)\n",
            "Requirement already satisfied: requests-oauthlib>=0.7.0 in c:\\python\\python3103\\lib\\site-packages (from google-auth-oauthlib<0.5,>=0.4.1->tensorboard<2.11,>=2.10->tensorflow<2.11,>=2.10.0->tensorflow-text) (1.3.1)\n",
            "Requirement already satisfied: idna<4,>=2.5 in c:\\python\\python3103\\lib\\site-packages (from requests<3,>=2.21.0->tensorboard<2.11,>=2.10->tensorflow<2.11,>=2.10.0->tensorflow-text) (3.4)\n",
            "Requirement already satisfied: certifi>=2017.4.17 in c:\\python\\python3103\\lib\\site-packages (from requests<3,>=2.21.0->tensorboard<2.11,>=2.10->tensorflow<2.11,>=2.10.0->tensorflow-text) (2022.9.24)\n",
            "Requirement already satisfied: urllib3<1.27,>=1.21.1 in c:\\python\\python3103\\lib\\site-packages (from requests<3,>=2.21.0->tensorboard<2.11,>=2.10->tensorflow<2.11,>=2.10.0->tensorflow-text) (1.26.12)\n",
            "Requirement already satisfied: charset-normalizer<3,>=2 in c:\\python\\python3103\\lib\\site-packages (from requests<3,>=2.21.0->tensorboard<2.11,>=2.10->tensorflow<2.11,>=2.10.0->tensorflow-text) (2.1.1)\n",
            "Requirement already satisfied: MarkupSafe>=2.1.1 in c:\\python\\python3103\\lib\\site-packages (from werkzeug>=1.0.1->tensorboard<2.11,>=2.10->tensorflow<2.11,>=2.10.0->tensorflow-text) (2.1.1)\n",
            "Requirement already satisfied: pyasn1<0.5.0,>=0.4.6 in c:\\python\\python3103\\lib\\site-packages (from pyasn1-modules>=0.2.1->google-auth<3,>=1.6.3->tensorboard<2.11,>=2.10->tensorflow<2.11,>=2.10.0->tensorflow-text) (0.4.8)\n",
            "Requirement already satisfied: oauthlib>=3.0.0 in c:\\python\\python3103\\lib\\site-packages (from requests-oauthlib>=0.7.0->google-auth-oauthlib<0.5,>=0.4.1->tensorboard<2.11,>=2.10->tensorflow<2.11,>=2.10.0->tensorflow-text) (3.2.2)\n",
            "Note: you may need to restart the kernel to use updated packages.\n"
          ]
        },
        {
          "name": "stderr",
          "output_type": "stream",
          "text": [
            "WARNING: There was an error checking the latest version of pip.\n"
          ]
        }
      ],
      "source": [
        "pip install tensorflow-text"
      ]
    },
    {
      "cell_type": "code",
      "execution_count": 3,
      "metadata": {
        "colab": {
          "base_uri": "https://localhost:8080/"
        },
        "id": "K8_YuABwsBYh",
        "outputId": "69ab23ce-e7ec-4632-a22f-6e2441a5dcd5"
      },
      "outputs": [
        {
          "name": "stdout",
          "output_type": "stream",
          "text": [
            "Requirement already satisfied: gdown in c:\\python\\python3103\\lib\\site-packages (4.5.4)\n",
            "Collecting gdown\n",
            "  Downloading gdown-4.6.0-py3-none-any.whl (14 kB)\n",
            "Requirement already satisfied: tqdm in c:\\python\\python3103\\lib\\site-packages (from gdown) (4.63.0)\n",
            "Requirement already satisfied: filelock in c:\\python\\python3103\\lib\\site-packages (from gdown) (3.6.0)\n",
            "Requirement already satisfied: six in c:\\python\\python3103\\lib\\site-packages (from gdown) (1.16.0)\n",
            "Requirement already satisfied: beautifulsoup4 in c:\\python\\python3103\\lib\\site-packages (from gdown) (4.11.1)\n",
            "Requirement already satisfied: requests[socks] in c:\\python\\python3103\\lib\\site-packages (from gdown) (2.28.1)\n",
            "Requirement already satisfied: soupsieve>1.2 in c:\\python\\python3103\\lib\\site-packages (from beautifulsoup4->gdown) (2.3.2.post1)\n",
            "Requirement already satisfied: certifi>=2017.4.17 in c:\\python\\python3103\\lib\\site-packages (from requests[socks]->gdown) (2022.9.24)\n",
            "Requirement already satisfied: idna<4,>=2.5 in c:\\python\\python3103\\lib\\site-packages (from requests[socks]->gdown) (3.4)\n",
            "Requirement already satisfied: charset-normalizer<3,>=2 in c:\\python\\python3103\\lib\\site-packages (from requests[socks]->gdown) (2.1.1)\n",
            "Requirement already satisfied: urllib3<1.27,>=1.21.1 in c:\\python\\python3103\\lib\\site-packages (from requests[socks]->gdown) (1.26.12)\n",
            "Requirement already satisfied: PySocks!=1.5.7,>=1.5.6 in c:\\python\\python3103\\lib\\site-packages (from requests[socks]->gdown) (1.7.1)\n",
            "Requirement already satisfied: colorama in c:\\python\\python3103\\lib\\site-packages (from tqdm->gdown) (0.4.4)\n",
            "Installing collected packages: gdown\n",
            "  Attempting uninstall: gdown\n",
            "    Found existing installation: gdown 4.5.4\n",
            "    Uninstalling gdown-4.5.4:\n",
            "      Successfully uninstalled gdown-4.5.4\n",
            "Successfully installed gdown-4.6.0\n"
          ]
        },
        {
          "name": "stderr",
          "output_type": "stream",
          "text": [
            "WARNING: There was an error checking the latest version of pip.\n"
          ]
        }
      ],
      "source": [
        "!pip install --upgrade --no-cache-dir gdown"
      ]
    },
    {
      "cell_type": "code",
      "execution_count": 1,
      "metadata": {
        "id": "d8sx1IBVpXlQ"
      },
      "outputs": [],
      "source": [
        "import tensorflow_hub as hub\n",
        "\n",
        "import pandas as pd\n",
        "\n",
        "import tensorflow_text as text\n",
        "\n",
        "import tensorflow as tf\n",
        "\n",
        "import numpy as np"
      ]
    },
    {
      "cell_type": "code",
      "execution_count": 2,
      "metadata": {
        "id": "QHyQHdXlrymq"
      },
      "outputs": [
        {
          "name": "stderr",
          "output_type": "stream",
          "text": [
            "Downloading...\n",
            "From: https://drive.google.com/uc?id=1g0jBWp3HZ1QhYDnNynh0A_jUdhmagixW\n",
            "To: c:\\Users\\KHOOSHRIN\\Documents\\BITS PILANI HYDERABAD CAMPUS\\Third Year\\First Semester\\CS F429 - Natural Language Processing (NLP)\\Project\\NLP_train_with_bert_embeddings.csv\n",
            "\n",
            "  0%|          | 0.00/348M [00:00<?, ?B/s]\n",
            "  0%|          | 524k/348M [00:00<04:36, 1.26MB/s]\n",
            "  0%|          | 1.05M/348M [00:00<02:32, 2.27MB/s]\n",
            "  0%|          | 1.57M/348M [00:00<02:03, 2.81MB/s]\n",
            "  1%|          | 2.62M/348M [00:00<01:26, 4.01MB/s]\n",
            "  1%|          | 4.19M/348M [00:00<00:51, 6.65MB/s]\n",
            "  2%|▏         | 5.77M/348M [00:01<00:39, 8.74MB/s]\n",
            "  2%|▏         | 7.86M/348M [00:01<00:29, 11.7MB/s]\n",
            "  3%|▎         | 10.5M/348M [00:01<00:22, 14.9MB/s]\n",
            "  4%|▍         | 13.1M/348M [00:01<00:36, 9.23MB/s]\n",
            "  5%|▍         | 16.8M/348M [00:01<00:25, 13.2MB/s]\n",
            "  5%|▌         | 18.9M/348M [00:02<00:31, 10.6MB/s]\n",
            "  6%|▌         | 20.4M/348M [00:02<00:37, 8.65MB/s]\n",
            "  6%|▋         | 22.0M/348M [00:02<00:48, 6.78MB/s]\n",
            "  7%|▋         | 25.7M/348M [00:02<00:30, 10.5MB/s]\n",
            "  8%|▊         | 27.8M/348M [00:03<00:47, 6.75MB/s]\n",
            "  9%|▊         | 29.9M/348M [00:03<00:48, 6.48MB/s]\n",
            " 10%|▉         | 33.0M/348M [00:04<00:35, 8.86MB/s]\n",
            " 10%|█         | 35.7M/348M [00:04<00:36, 8.61MB/s]\n",
            " 11%|█         | 37.7M/348M [00:04<00:42, 7.30MB/s]\n",
            " 12%|█▏        | 41.4M/348M [00:04<00:28, 10.7MB/s]\n",
            " 13%|█▎        | 44.0M/348M [00:05<00:23, 12.8MB/s]\n",
            " 13%|█▎        | 46.1M/348M [00:05<00:29, 10.3MB/s]\n",
            " 14%|█▍        | 50.3M/348M [00:05<00:20, 14.6MB/s]\n",
            " 15%|█▌        | 53.0M/348M [00:05<00:21, 13.6MB/s]\n",
            " 16%|█▌        | 55.1M/348M [00:06<00:28, 10.1MB/s]\n",
            " 17%|█▋        | 57.7M/348M [00:06<00:23, 12.3MB/s]\n",
            " 18%|█▊        | 61.3M/348M [00:06<00:28, 9.90MB/s]\n",
            " 19%|█▉        | 65.5M/348M [00:06<00:20, 13.7MB/s]\n",
            " 20%|█▉        | 68.2M/348M [00:07<00:23, 11.9MB/s]\n",
            " 21%|██        | 71.8M/348M [00:07<00:18, 15.3MB/s]\n",
            " 22%|██▏       | 75.0M/348M [00:07<00:15, 17.5MB/s]\n",
            " 22%|██▏       | 77.6M/348M [00:07<00:19, 13.6MB/s]\n",
            " 23%|██▎       | 81.3M/348M [00:07<00:15, 16.7MB/s]\n",
            " 24%|██▍       | 84.4M/348M [00:08<00:19, 13.6MB/s]\n",
            " 25%|██▌       | 88.1M/348M [00:08<00:15, 16.7MB/s]\n",
            " 26%|██▋       | 91.2M/348M [00:08<00:13, 18.6MB/s]\n",
            " 27%|██▋       | 93.8M/348M [00:08<00:23, 11.0MB/s]\n",
            " 28%|██▊       | 97.0M/348M [00:08<00:18, 13.6MB/s]\n",
            " 29%|██▊       | 99.6M/348M [00:09<00:17, 14.4MB/s]\n",
            " 29%|██▉       | 102M/348M [00:09<00:20, 12.1MB/s] \n",
            " 30%|██▉       | 104M/348M [00:09<00:19, 12.5MB/s]\n",
            " 31%|███       | 106M/348M [00:09<00:16, 14.5MB/s]\n",
            " 32%|███▏      | 110M/348M [00:09<00:16, 14.5MB/s]\n",
            " 32%|███▏      | 112M/348M [00:09<00:15, 15.4MB/s]\n",
            " 33%|███▎      | 114M/348M [00:10<00:14, 16.0MB/s]\n",
            " 33%|███▎      | 116M/348M [00:10<00:12, 17.9MB/s]\n",
            " 34%|███▍      | 118M/348M [00:10<00:14, 15.4MB/s]\n",
            " 35%|███▌      | 122M/348M [00:10<00:12, 18.2MB/s]\n",
            " 36%|███▌      | 124M/348M [00:10<00:16, 13.2MB/s]\n",
            " 37%|███▋      | 127M/348M [00:10<00:13, 16.2MB/s]\n",
            " 37%|███▋      | 130M/348M [00:11<00:12, 17.8MB/s]\n",
            " 38%|███▊      | 133M/348M [00:11<00:10, 20.6MB/s]\n",
            " 39%|███▉      | 136M/348M [00:11<00:16, 12.9MB/s]\n",
            " 40%|███▉      | 138M/348M [00:11<00:14, 14.2MB/s]\n",
            " 40%|████      | 140M/348M [00:11<00:13, 15.0MB/s]\n",
            " 41%|████      | 143M/348M [00:11<00:12, 16.5MB/s]\n",
            " 42%|████▏     | 145M/348M [00:12<00:15, 12.8MB/s]\n",
            " 43%|████▎     | 148M/348M [00:12<00:11, 17.0MB/s]\n",
            " 43%|████▎     | 151M/348M [00:12<00:10, 18.3MB/s]\n",
            " 44%|████▍     | 154M/348M [00:12<00:13, 14.0MB/s]\n",
            " 45%|████▌     | 157M/348M [00:12<00:11, 16.4MB/s]\n",
            " 46%|████▌     | 160M/348M [00:13<00:14, 13.1MB/s]\n",
            " 47%|████▋     | 163M/348M [00:13<00:11, 15.7MB/s]\n",
            " 48%|████▊     | 166M/348M [00:13<00:10, 18.1MB/s]\n",
            " 49%|████▊     | 169M/348M [00:13<00:12, 14.4MB/s]\n",
            " 50%|████▉     | 173M/348M [00:14<00:13, 12.7MB/s]\n",
            " 51%|█████     | 177M/348M [00:14<00:13, 12.2MB/s]\n",
            " 52%|█████▏    | 180M/348M [00:14<00:10, 15.5MB/s]\n",
            " 53%|█████▎    | 184M/348M [00:14<00:09, 18.1MB/s]\n",
            " 54%|█████▎    | 187M/348M [00:15<00:14, 11.2MB/s]\n",
            " 55%|█████▍    | 190M/348M [00:15<00:10, 14.5MB/s]\n",
            " 56%|█████▌    | 193M/348M [00:15<00:09, 16.1MB/s]\n",
            " 56%|█████▋    | 196M/348M [00:15<00:11, 12.9MB/s]\n",
            " 57%|█████▋    | 199M/348M [00:15<00:09, 16.5MB/s]\n",
            " 58%|█████▊    | 202M/348M [00:16<00:11, 12.4MB/s]\n",
            " 59%|█████▉    | 206M/348M [00:16<00:08, 16.6MB/s]\n",
            " 60%|██████    | 209M/348M [00:16<00:07, 19.2MB/s]\n",
            " 61%|██████    | 212M/348M [00:16<00:10, 12.6MB/s]\n",
            " 62%|██████▏   | 217M/348M [00:16<00:07, 16.6MB/s]\n",
            " 63%|██████▎   | 220M/348M [00:17<00:09, 14.0MB/s]\n",
            " 64%|██████▍   | 222M/348M [00:17<00:07, 15.8MB/s]\n",
            " 65%|██████▍   | 225M/348M [00:17<00:06, 18.3MB/s]\n",
            " 66%|██████▌   | 228M/348M [00:17<00:10, 11.5MB/s]\n",
            " 67%|██████▋   | 232M/348M [00:17<00:07, 15.4MB/s]\n",
            " 68%|██████▊   | 235M/348M [00:18<00:08, 12.5MB/s]\n",
            " 69%|██████▊   | 239M/348M [00:18<00:07, 15.0MB/s]\n",
            " 70%|██████▉   | 242M/348M [00:18<00:05, 18.4MB/s]\n",
            " 70%|███████   | 245M/348M [00:18<00:07, 14.2MB/s]\n",
            " 71%|███████   | 247M/348M [00:18<00:06, 16.0MB/s]\n",
            " 72%|███████▏  | 250M/348M [00:19<00:05, 16.4MB/s]\n",
            " 73%|███████▎  | 252M/348M [00:19<00:07, 13.5MB/s]\n",
            " 74%|███████▍  | 256M/348M [00:19<00:04, 18.3MB/s]\n",
            " 75%|███████▍  | 260M/348M [00:19<00:04, 21.7MB/s]\n",
            " 76%|███████▌  | 263M/348M [00:19<00:05, 14.8MB/s]\n",
            " 77%|███████▋  | 266M/348M [00:20<00:04, 17.1MB/s]\n",
            " 77%|███████▋  | 269M/348M [00:20<00:06, 11.7MB/s]\n",
            " 79%|███████▊  | 273M/348M [00:20<00:04, 16.0MB/s]\n",
            " 79%|███████▉  | 276M/348M [00:20<00:04, 16.8MB/s]\n",
            " 80%|████████  | 278M/348M [00:21<00:05, 13.5MB/s]\n",
            " 81%|████████▏ | 283M/348M [00:21<00:03, 18.1MB/s]\n",
            " 82%|████████▏ | 286M/348M [00:21<00:04, 15.3MB/s]\n",
            " 83%|████████▎ | 289M/348M [00:21<00:03, 17.7MB/s]\n",
            " 84%|████████▍ | 293M/348M [00:21<00:02, 20.7MB/s]\n",
            " 85%|████████▍ | 295M/348M [00:22<00:04, 13.1MB/s]\n",
            " 86%|████████▌ | 298M/348M [00:22<00:03, 15.0MB/s]\n",
            " 86%|████████▋ | 300M/348M [00:22<00:02, 16.8MB/s]\n",
            " 87%|████████▋ | 303M/348M [00:22<00:03, 11.8MB/s]\n",
            " 88%|████████▊ | 307M/348M [00:22<00:02, 15.6MB/s]\n",
            " 89%|████████▉ | 311M/348M [00:23<00:02, 13.3MB/s]\n",
            " 91%|█████████ | 315M/348M [00:23<00:01, 17.3MB/s]\n",
            " 92%|█████████▏| 318M/348M [00:23<00:01, 19.7MB/s]\n",
            " 92%|█████████▏| 321M/348M [00:23<00:01, 14.7MB/s]\n",
            " 94%|█████████▎| 326M/348M [00:23<00:01, 18.8MB/s]\n",
            " 95%|█████████▍| 329M/348M [00:24<00:01, 12.4MB/s]\n",
            " 96%|█████████▌| 333M/348M [00:24<00:00, 15.8MB/s]\n",
            " 97%|█████████▋| 336M/348M [00:24<00:00, 14.6MB/s]\n",
            " 98%|█████████▊| 340M/348M [00:24<00:00, 17.4MB/s]\n",
            " 99%|█████████▊| 343M/348M [00:24<00:00, 19.3MB/s]\n",
            " 99%|█████████▉| 346M/348M [00:25<00:00, 13.6MB/s]\n",
            "100%|██████████| 348M/348M [00:25<00:00, 13.7MB/s]\n",
            "Downloading...\n",
            "From: https://drive.google.com/uc?id=1-0q0JcBvsIcwwHVjWQ41a2yY_4XhM20u\n",
            "To: c:\\Users\\KHOOSHRIN\\Documents\\BITS PILANI HYDERABAD CAMPUS\\Third Year\\First Semester\\CS F429 - Natural Language Processing (NLP)\\Project\\NLP_validate_with_bert_embeddings.csv\n",
            "\n",
            "  0%|          | 0.00/20.4M [00:00<?, ?B/s]\n",
            "  3%|▎         | 524k/20.4M [00:00<00:11, 1.76MB/s]\n",
            "  8%|▊         | 1.57M/20.4M [00:00<00:04, 4.24MB/s]\n",
            " 13%|█▎        | 2.62M/20.4M [00:00<00:04, 3.94MB/s]\n",
            " 23%|██▎       | 4.72M/20.4M [00:01<00:05, 2.69MB/s]\n",
            " 39%|███▊      | 7.86M/20.4M [00:01<00:02, 5.47MB/s]\n",
            " 46%|████▋     | 9.44M/20.4M [00:02<00:03, 2.92MB/s]\n",
            " 54%|█████▍    | 11.0M/20.4M [00:03<00:03, 3.08MB/s]\n",
            " 64%|██████▍   | 13.1M/20.4M [00:04<00:03, 2.29MB/s]\n",
            " 85%|████████▍ | 17.3M/20.4M [00:06<00:01, 2.65MB/s]\n",
            "100%|██████████| 20.4M/20.4M [00:06<00:00, 3.33MB/s]\n",
            "Downloading...\n",
            "From: https://drive.google.com/uc?id=1JTq7EveehwEAw3SDNZsJLgVPE-dD0CXJ\n",
            "To: c:\\Users\\KHOOSHRIN\\Documents\\BITS PILANI HYDERABAD CAMPUS\\Third Year\\First Semester\\CS F429 - Natural Language Processing (NLP)\\Project\\NLP_test_with_bert_embeddings.csv\n",
            "\n",
            "  0%|          | 0.00/35.9M [00:00<?, ?B/s]\n",
            "  1%|▏         | 524k/35.9M [00:00<00:36, 983kB/s]\n",
            "  3%|▎         | 1.05M/35.9M [00:00<00:19, 1.79MB/s]\n",
            "  6%|▌         | 2.10M/35.9M [00:00<00:09, 3.73MB/s]\n",
            " 13%|█▎        | 4.72M/35.9M [00:00<00:03, 8.81MB/s]\n",
            " 23%|██▎       | 8.39M/35.9M [00:00<00:01, 15.4MB/s]\n",
            " 29%|██▉       | 10.5M/35.9M [00:01<00:02, 10.4MB/s]\n",
            " 34%|███▎      | 12.1M/35.9M [00:01<00:02, 8.20MB/s]\n",
            " 39%|███▉      | 14.2M/35.9M [00:02<00:03, 6.86MB/s]\n",
            " 51%|█████     | 18.4M/35.9M [00:02<00:02, 7.42MB/s]\n",
            " 57%|█████▋    | 20.4M/35.9M [00:02<00:02, 7.30MB/s]\n",
            " 60%|█████▉    | 21.5M/35.9M [00:03<00:02, 5.45MB/s]\n",
            " 67%|██████▋   | 24.1M/35.9M [00:03<00:01, 7.59MB/s]\n",
            " 71%|███████▏  | 25.7M/35.9M [00:03<00:01, 8.12MB/s]\n",
            " 76%|███████▌  | 27.3M/35.9M [00:03<00:01, 7.49MB/s]\n",
            " 80%|████████  | 28.8M/35.9M [00:04<00:01, 6.21MB/s]\n",
            " 88%|████████▊ | 31.5M/35.9M [00:04<00:00, 8.70MB/s]\n",
            " 95%|█████████▍| 34.1M/35.9M [00:04<00:00, 10.7MB/s]\n",
            "100%|██████████| 35.9M/35.9M [00:04<00:00, 7.98MB/s]\n"
          ]
        }
      ],
      "source": [
        "!gdown 1g0jBWp3HZ1QhYDnNynh0A_jUdhmagixW\n",
        "!gdown 1-0q0JcBvsIcwwHVjWQ41a2yY_4XhM20u\n",
        "!gdown 1JTq7EveehwEAw3SDNZsJLgVPE-dD0CXJ"
      ]
    },
    {
      "cell_type": "code",
      "execution_count": 3,
      "metadata": {
        "id": "J0vNNyqHsIG3"
      },
      "outputs": [],
      "source": [
        "train = pd.read_csv(\"NLP_train_with_bert_embeddings.csv\")\n",
        "validate = pd.read_csv(\"NLP_validate_with_bert_embeddings.csv\")\n",
        "test = pd.read_csv(\"NLP_test_with_bert_embeddings.csv\")"
      ]
    },
    {
      "cell_type": "code",
      "execution_count": 4,
      "metadata": {
        "id": "x44WdD_nt3YT"
      },
      "outputs": [],
      "source": [
        "X_train = train['bert']\n",
        "Y_train = train['verdict']"
      ]
    },
    {
      "cell_type": "code",
      "execution_count": 5,
      "metadata": {
        "id": "B37TvMPCsxr6"
      },
      "outputs": [],
      "source": [
        "validate['verdict'] = validate['verdict'].apply(lambda x:1 if x=='spam' else 0)\n",
        "test['verdict'] = test['verdict'].apply(lambda x:1 if x=='spam' else 0)"
      ]
    },
    {
      "cell_type": "code",
      "execution_count": 8,
      "metadata": {
        "id": "HO2zOX4KtQ7I"
      },
      "outputs": [
        {
          "name": "stdout",
          "output_type": "stream",
          "text": [
            "WARNING:tensorflow:Please fix your imports. Module tensorflow.python.training.tracking.data_structures has been moved to tensorflow.python.trackable.data_structures. The old module will be deleted in version 2.11.\n"
          ]
        }
      ],
      "source": [
        "# downloading preprocessing files and model\n",
        "bert_preprocessor = hub.KerasLayer('https://tfhub.dev/tensorflow/bert_en_uncased_preprocess/3')\n",
        "bert_encoder = hub.KerasLayer('https://tfhub.dev/tensorflow/bert_en_uncased_L-12_H-768_A-12/4')"
      ]
    },
    {
      "cell_type": "code",
      "execution_count": 9,
      "metadata": {
        "id": "0LXl7c4-tZxN"
      },
      "outputs": [],
      "source": [
        "text_input = tf.keras.layers.Input(shape = (), dtype = tf.string, name = 'Inputs')\n",
        "preprocessed_text = bert_preprocessor(text_input)\n",
        "embeed = bert_encoder(preprocessed_text)\n",
        "dropout = tf.keras.layers.Dropout(0.1, name = 'Dropout')(embeed['pooled_output'])\n",
        "outputs = tf.keras.layers.Dense(1, activation = 'sigmoid', name = 'Dense')(dropout)"
      ]
    },
    {
      "cell_type": "code",
      "execution_count": 10,
      "metadata": {
        "id": "Ww7OOVoetdPb"
      },
      "outputs": [],
      "source": [
        "# creating final model\n",
        "model = tf.keras.Model(inputs = [text_input], outputs = [outputs])"
      ]
    },
    {
      "cell_type": "code",
      "execution_count": 11,
      "metadata": {
        "id": "PBygjokStsa2"
      },
      "outputs": [],
      "source": [
        "Metrics = [tf.keras.metrics.BinaryAccuracy(name = 'accuracy'),\n",
        "           tf.keras.metrics.Precision(name = 'precision'),\n",
        "           tf.keras.metrics.Recall(name = 'recall')\n",
        "           ]"
      ]
    },
    {
      "cell_type": "code",
      "execution_count": 12,
      "metadata": {
        "id": "OVhc0dZqttyr"
      },
      "outputs": [],
      "source": [
        "# compiling our model\n",
        "model.compile(optimizer ='adam',\n",
        "               loss = 'binary_crossentropy',\n",
        "               metrics = Metrics)"
      ]
    },
    {
      "cell_type": "code",
      "execution_count": 6,
      "metadata": {},
      "outputs": [],
      "source": [
        "X_test=test['bert']\n",
        "y_test=test['verdict']"
      ]
    },
    {
      "cell_type": "code",
      "execution_count": 7,
      "metadata": {},
      "outputs": [],
      "source": [
        "float_train_embeddings=[]\n",
        "for each_embedding in X_train:\n",
        "  each_element=each_embedding.split()\n",
        "  each_element[0]=each_element[0][1:]\n",
        "  if len(each_element[0]) == 0:\n",
        "    each_element.remove('')\n",
        "  each_element[len(each_element)-1]=each_element[len(each_element)-1][0:len(each_element[len(each_element)-1])-1]\n",
        "  float_each_element=[float(i) for i in each_element]\n",
        "  float_train_embeddings.append(float_each_element)"
      ]
    },
    {
      "cell_type": "code",
      "execution_count": 8,
      "metadata": {},
      "outputs": [],
      "source": [
        "X_train_final = np.array(float_train_embeddings)"
      ]
    },
    {
      "cell_type": "code",
      "execution_count": 9,
      "metadata": {},
      "outputs": [
        {
          "name": "stdout",
          "output_type": "stream",
          "text": [
            "Epoch 1/10\n",
            "1080/1080 [==============================] - 3s 2ms/step - loss: 0.3670 - accuracy: 0.8636\n",
            "Epoch 2/10\n",
            "1080/1080 [==============================] - 2s 2ms/step - loss: 0.1095 - accuracy: 0.9747\n",
            "Epoch 3/10\n",
            "1080/1080 [==============================] - 2s 2ms/step - loss: 0.0727 - accuracy: 0.9794\n",
            "Epoch 4/10\n",
            "1080/1080 [==============================] - 3s 3ms/step - loss: 0.0629 - accuracy: 0.9808\n",
            "Epoch 5/10\n",
            "1080/1080 [==============================] - 4s 4ms/step - loss: 0.0566 - accuracy: 0.9822\n",
            "Epoch 6/10\n",
            "1080/1080 [==============================] - 3s 3ms/step - loss: 0.0521 - accuracy: 0.9829\n",
            "Epoch 7/10\n",
            "1080/1080 [==============================] - 2s 2ms/step - loss: 0.0493 - accuracy: 0.9834\n",
            "Epoch 8/10\n",
            "1080/1080 [==============================] - 3s 3ms/step - loss: 0.0477 - accuracy: 0.9836\n",
            "Epoch 9/10\n",
            "1080/1080 [==============================] - 3s 3ms/step - loss: 0.0449 - accuracy: 0.9842\n",
            "Epoch 10/10\n",
            "1080/1080 [==============================] - 2s 2ms/step - loss: 0.0442 - accuracy: 0.9834\n"
          ]
        },
        {
          "data": {
            "text/plain": [
              "<keras.callbacks.History at 0x285d95e1180>"
            ]
          },
          "execution_count": 9,
          "metadata": {},
          "output_type": "execute_result"
        }
      ],
      "source": [
        "model = tf.keras.Sequential([\n",
        "    tf.keras.layers.Input(shape=(384,)),\n",
        "    tf.keras.layers.Dense(256, activation = 'sigmoid'),\n",
        "    tf.keras.layers.Dense(128, activation = 'sigmoid'),\n",
        "    tf.keras.layers.Dense(64, activation = 'sigmoid'),\n",
        "    tf.keras.layers.Dense(32, activation = 'sigmoid'),\n",
        "    tf.keras.layers.Dense(16, activation = 'sigmoid'),\n",
        "    tf.keras.layers.Dense(8, activation = 'sigmoid'),\n",
        "    tf.keras.layers.Dense(4, activation = 'sigmoid'),\n",
        "    tf.keras.layers.Dense(2, activation = 'softmax')\n",
        "])\n",
        "model.compile(loss='sparse_categorical_crossentropy', optimizer='adam', metrics=['accuracy'])\n",
        "model.fit(X_train_final, Y_train, epochs=10)"
      ]
    },
    {
      "cell_type": "code",
      "execution_count": 19,
      "metadata": {},
      "outputs": [],
      "source": [
        "float_train_embeddings=[]\n",
        "for each_embedding in X_test:\n",
        "  each_element=each_embedding.split()\n",
        "  each_element[0]=each_element[0][1:]\n",
        "  if len(each_element[0]) == 0:\n",
        "    each_element.remove('')\n",
        "  each_element[len(each_element)-1]=each_element[len(each_element)-1][0:len(each_element[len(each_element)-1])-1]\n",
        "  float_each_element=[float(i) for i in each_element]\n",
        "  float_train_embeddings.append(float_each_element)"
      ]
    },
    {
      "cell_type": "code",
      "execution_count": 20,
      "metadata": {},
      "outputs": [],
      "source": [
        "X_test_final = np.array(float_train_embeddings)"
      ]
    },
    {
      "cell_type": "code",
      "execution_count": 22,
      "metadata": {},
      "outputs": [
        {
          "data": {
            "text/plain": [
              "384"
            ]
          },
          "execution_count": 22,
          "metadata": {},
          "output_type": "execute_result"
        }
      ],
      "source": [
        "len(X_test_final[0])"
      ]
    },
    {
      "cell_type": "code",
      "execution_count": 23,
      "metadata": {},
      "outputs": [
        {
          "name": "stdout",
          "output_type": "stream",
          "text": [
            "168/168 [==============================] - 0s 1ms/step - loss: 0.0506 - accuracy: 0.9837\n"
          ]
        },
        {
          "data": {
            "text/plain": [
              "[0.0505717508494854, 0.9837352633476257]"
            ]
          },
          "execution_count": 23,
          "metadata": {},
          "output_type": "execute_result"
        }
      ],
      "source": [
        "model.evaluate(X_test_final,y_test)"
      ]
    },
    {
      "cell_type": "code",
      "execution_count": 24,
      "metadata": {},
      "outputs": [
        {
          "name": "stdout",
          "output_type": "stream",
          "text": [
            "168/168 [==============================] - 0s 1ms/step\n"
          ]
        }
      ],
      "source": [
        "y_pred = model.predict(X_test_final)"
      ]
    },
    {
      "cell_type": "code",
      "execution_count": 28,
      "metadata": {},
      "outputs": [],
      "source": [
        "y_pred=y_pred.flatten()"
      ]
    },
    {
      "cell_type": "code",
      "execution_count": 50,
      "metadata": {},
      "outputs": [],
      "source": [
        "final_y_pred=[]\n",
        "ind = 0\n",
        "for each_y_pred in y_pred:\n",
        "    if ind%2==1 and each_y_pred<0.5:\n",
        "        final_y_pred.append(0)\n",
        "    elif ind%2==1:\n",
        "        final_y_pred.append(1)\n",
        "    ind += 1"
      ]
    },
    {
      "cell_type": "code",
      "execution_count": 54,
      "metadata": {},
      "outputs": [
        {
          "data": {
            "text/plain": [
              "array([[2460,   39],\n",
              "       [  48, 2802]], dtype=int64)"
            ]
          },
          "execution_count": 54,
          "metadata": {},
          "output_type": "execute_result"
        }
      ],
      "source": [
        "from sklearn.metrics import confusion_matrix , classification_report\n",
        "\n",
        "# creating confusion matrix \n",
        "\n",
        "cm = confusion_matrix(y_test,final_y_pred)\n",
        "\n",
        "cm"
      ]
    },
    {
      "cell_type": "code",
      "execution_count": 55,
      "metadata": {},
      "outputs": [
        {
          "data": {
            "text/plain": [
              "Text(50.722222222222214, 0.5, 'Actual')"
            ]
          },
          "execution_count": 55,
          "metadata": {},
          "output_type": "execute_result"
        },
        {
          "data": {
            "image/png": "[encoded data removed]",
            "text/plain": [
              "<Figure size 640x480 with 2 Axes>"
            ]
          },
          "metadata": {},
          "output_type": "display_data"
        }
      ],
      "source": [
        "# plotting as a graph - importing seaborn\n",
        "import seaborn as sns\n",
        "from matplotlib import pyplot as plt\n",
        "# creating a graph out of confusion matrix\n",
        "sns.heatmap(cm, annot = True, fmt = 'd')\n",
        "plt.xlabel('Predicted')\n",
        "plt.ylabel('Actual')"
      ]
    }
  ],
  "metadata": {
    "colab": {
      "provenance": []
    },
    "kernelspec": {
      "display_name": "Python 3.10.3 64-bit",
      "language": "python",
      "name": "python3"
    },
    "language_info": {
      "codemirror_mode": {
        "name": "ipython",
        "version": 3
      },
      "file_extension": ".py",
      "mimetype": "text/x-python",
      "name": "python",
      "nbconvert_exporter": "python",
      "pygments_lexer": "ipython3",
      "version": "3.10.3 (tags/v3.10.3:a342a49, Mar 16 2022, 13:07:40) [MSC v.1929 64 bit (AMD64)]"
    },
    "vscode": {
      "interpreter": {
        "hash": "a9d96572ae50ddc70c142db473993b6399d52e4b3ec9b96e7dde07933e8f9bdc"
      }
    }
  },
  "nbformat": 4,
  "nbformat_minor": 0
}
